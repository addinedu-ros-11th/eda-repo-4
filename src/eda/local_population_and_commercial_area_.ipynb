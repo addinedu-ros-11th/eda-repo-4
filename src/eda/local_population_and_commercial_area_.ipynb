{
 "cells": [
  {
   "cell_type": "markdown",
   "id": "2a8ed9de",
   "metadata": {},
   "source": [
    "# 3. 유동/상주/직장인구와 매출 데이터\n",
    "\n",
    "* 지역별 유동인구의 특성 파악하기 (유동/상주/직장인구 집중 상위 지역 파악)\n",
    "* 매출 데이터와 상관 관계 파악\n",
    "* 인구 특성과 매출 시간/요일 집중도 비교\n",
    "\n",
    "## 4. 3번의 상권별 특성 파악\n",
    "* 업종별 특성 파악\n",
    "* 매출, 성별, 연령대 집중도 등"
   ]
  },
  {
   "cell_type": "markdown",
   "id": "7d4728c3",
   "metadata": {},
   "source": [
    "테이블 정리:\n",
    "\n",
    "3에서 사용되는 테이블\n",
    "* 지역별 유동인구의 특성 파악: Population_GA, Area_Type\n",
    "* 매출데이터와 유동인구의 상관관계 파악: Sales_*, Shop\n",
    "* 인구 특성과 매출 시간/요일의 집중도 비교: Population_GA (pop_type), Sales_Daytype, Sales_Day, Sales_Time\n",
    "=> 유동/상주/직장인구 탑 지역은 따로 저장 (resident_area, working_area)\n",
    "\n",
    "4에서 사용되는 테이블\n",
    "* 유동인구 많은 상위 지역(resident_area, working_area)별로 업종 파악: service_Category\n",
    "* 유동인구 많은 상위 지역의 매출, 성별, 연령대 집중도: Sales_Sex, Sales_Age, Floating_Population"
   ]
  },
  {
   "cell_type": "code",
   "execution_count": null,
   "id": "ffc59d40",
   "metadata": {
    "vscode": {
     "languageId": "plaintext"
    }
   },
   "outputs": [],
   "source": []
  }
 ],
 "metadata": {
  "language_info": {
   "name": "python"
  }
 },
 "nbformat": 4,
 "nbformat_minor": 5
}
