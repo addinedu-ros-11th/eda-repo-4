{
 "cells": [
  {
   "cell_type": "markdown",
   "id": "55ae7ee8",
   "metadata": {},
   "source": [
    "## 4. 3번의 상권별 특성 파악\n",
    "* 업종별 특성 파악\n",
    "* 매출, 성별, 연령대 집중도 등"
   ]
  },
  {
   "cell_type": "markdown",
   "id": "85cd76fd",
   "metadata": {},
   "source": [
    "4에서 사용되는 테이블\n",
    "* 유동인구 많은 상위 지역(resident_area, working_area)별로 업종 파악: service_Category\n",
    "* 유동인구 많은 상위 지역의 매출, 성별, 연령대 집중도: Sales_Sex, Sales_Age, Floating_Population"
   ]
  },
  {
   "cell_type": "markdown",
   "id": "f91ef2ab",
   "metadata": {},
   "source": [
    "## 4.1. 업종별 특성 파악"
   ]
  },
  {
   "cell_type": "markdown",
   "id": "148b7d90",
   "metadata": {},
   "source": [
    "### DB에서 데이터 가져오기"
   ]
  },
  {
   "cell_type": "code",
   "execution_count": 32,
   "id": "243bee0a",
   "metadata": {},
   "outputs": [
    {
     "name": "stderr",
     "output_type": "stream",
     "text": [
      "/var/folders/x1/3x1wk6hx6g3_dv91vx02k_dm0000gn/T/ipykernel_27962/2317859657.py:46: UserWarning: pandas only supports SQLAlchemy connectable (engine/connection) or database string URI or sqlite3 DBAPI2 connection. Other DBAPI2 objects are not tested. Please consider using SQLAlchemy.\n",
      "  df = pd.read_sql(query, remote)\n"
     ]
    },
    {
     "data": {
      "text/html": [
       "<div>\n",
       "<style scoped>\n",
       "    .dataframe tbody tr th:only-of-type {\n",
       "        vertical-align: middle;\n",
       "    }\n",
       "\n",
       "    .dataframe tbody tr th {\n",
       "        vertical-align: top;\n",
       "    }\n",
       "\n",
       "    .dataframe thead th {\n",
       "        text-align: right;\n",
       "    }\n",
       "</style>\n",
       "<table border=\"1\" class=\"dataframe\">\n",
       "  <thead>\n",
       "    <tr style=\"text-align: right;\">\n",
       "      <th></th>\n",
       "      <th>name</th>\n",
       "      <th>commercial_area_code</th>\n",
       "      <th>pop_type</th>\n",
       "      <th>service_category_code</th>\n",
       "      <th>service_category_name</th>\n",
       "      <th>shop_count</th>\n",
       "      <th>similar_shop_count</th>\n",
       "      <th>total_population</th>\n",
       "    </tr>\n",
       "  </thead>\n",
       "  <tbody>\n",
       "    <tr>\n",
       "      <th>611057</th>\n",
       "      <td>평화시장(남평화시장, 제일평화시장, 신평화패션타운)</td>\n",
       "      <td>3130327</td>\n",
       "      <td>WORKING</td>\n",
       "      <td>CS300024</td>\n",
       "      <td>운동/경기용품</td>\n",
       "      <td>5</td>\n",
       "      <td>5</td>\n",
       "      <td>894.0</td>\n",
       "    </tr>\n",
       "    <tr>\n",
       "      <th>611058</th>\n",
       "      <td>평화시장(남평화시장, 제일평화시장, 신평화패션타운)</td>\n",
       "      <td>3130327</td>\n",
       "      <td>WORKING</td>\n",
       "      <td>CS300027</td>\n",
       "      <td>섬유제품</td>\n",
       "      <td>2</td>\n",
       "      <td>2</td>\n",
       "      <td>894.0</td>\n",
       "    </tr>\n",
       "    <tr>\n",
       "      <th>611059</th>\n",
       "      <td>평화시장(남평화시장, 제일평화시장, 신평화패션타운)</td>\n",
       "      <td>3130327</td>\n",
       "      <td>WORKING</td>\n",
       "      <td>CS300029</td>\n",
       "      <td>애완동물</td>\n",
       "      <td>1</td>\n",
       "      <td>1</td>\n",
       "      <td>894.0</td>\n",
       "    </tr>\n",
       "    <tr>\n",
       "      <th>611060</th>\n",
       "      <td>평화시장(남평화시장, 제일평화시장, 신평화패션타운)</td>\n",
       "      <td>3130327</td>\n",
       "      <td>WORKING</td>\n",
       "      <td>CS300035</td>\n",
       "      <td>인테리어</td>\n",
       "      <td>2</td>\n",
       "      <td>2</td>\n",
       "      <td>894.0</td>\n",
       "    </tr>\n",
       "    <tr>\n",
       "      <th>611061</th>\n",
       "      <td>평화시장(남평화시장, 제일평화시장, 신평화패션타운)</td>\n",
       "      <td>3130327</td>\n",
       "      <td>WORKING</td>\n",
       "      <td>CS300043</td>\n",
       "      <td>전자상거래업</td>\n",
       "      <td>4</td>\n",
       "      <td>4</td>\n",
       "      <td>894.0</td>\n",
       "    </tr>\n",
       "  </tbody>\n",
       "</table>\n",
       "</div>"
      ],
      "text/plain": [
       "                                name  commercial_area_code pop_type  \\\n",
       "611057  평화시장(남평화시장, 제일평화시장, 신평화패션타운)               3130327  WORKING   \n",
       "611058  평화시장(남평화시장, 제일평화시장, 신평화패션타운)               3130327  WORKING   \n",
       "611059  평화시장(남평화시장, 제일평화시장, 신평화패션타운)               3130327  WORKING   \n",
       "611060  평화시장(남평화시장, 제일평화시장, 신평화패션타운)               3130327  WORKING   \n",
       "611061  평화시장(남평화시장, 제일평화시장, 신평화패션타운)               3130327  WORKING   \n",
       "\n",
       "       service_category_code service_category_name  shop_count  \\\n",
       "611057              CS300024               운동/경기용품           5   \n",
       "611058              CS300027                  섬유제품           2   \n",
       "611059              CS300029                  애완동물           1   \n",
       "611060              CS300035                  인테리어           2   \n",
       "611061              CS300043                전자상거래업           4   \n",
       "\n",
       "        similar_shop_count  total_population  \n",
       "611057                   5             894.0  \n",
       "611058                   2             894.0  \n",
       "611059                   1             894.0  \n",
       "611060                   2             894.0  \n",
       "611061                   4             894.0  "
      ]
     },
     "execution_count": 32,
     "metadata": {},
     "output_type": "execute_result"
    }
   ],
   "source": [
    "import mysql.connector\n",
    "import pandas as pd\n",
    "import numpy as np\n",
    "from dotenv import load_dotenv\n",
    "import os\n",
    "\n",
    "load_dotenv()\n",
    "\n",
    "remote = mysql.connector.connect(\n",
    "    host = os.getenv(\"DB_HOST\"),\n",
    "    user = os.getenv(\"DB_USER\"),\n",
    "    password = os.getenv(\"DB_PASSWORD\"),\n",
    "    database = \"triodb\"\n",
    ")\n",
    "\n",
    "query = \"\"\"\n",
    "-- 상권별 상주+직장 인구 합계\n",
    "WITH pop_summary AS (\n",
    "    SELECT\n",
    "        year_quarter,\n",
    "        commercial_area_code,\n",
    "        SUM(population) AS total_population,\n",
    "        pop_type\n",
    "    FROM Population_GA\n",
    "    GROUP BY year_quarter, commercial_area_code, pop_type\n",
    ")\n",
    "SELECT\n",
    "    ca.name,\n",
    "    sc.commercial_area_code,\n",
    "    ps.pop_type,\n",
    "    sc.service_category_code,\n",
    "    sca.name \"service_category_name\",\n",
    "    sc.shop_count,\n",
    "    sc.similar_shop_count,\n",
    "    ps.total_population\n",
    "FROM Shop_Count sc\n",
    "JOIN pop_summary ps\n",
    "    ON sc.year_quarter = ps.year_quarter\n",
    "    AND sc.commercial_area_code = ps.commercial_area_code\n",
    "JOIN Commercial_Area ca\n",
    "    ON ca.code = sc.commercial_area_code\n",
    "JOIN Service_Category sca\n",
    "    ON sca.code = sc.service_category_code;\n",
    "\"\"\"\n",
    "\n",
    "df = pd.read_sql(query, remote)\n",
    "\n",
    "remote.close()\n",
    "\n",
    "df.tail()"
   ]
  },
  {
   "cell_type": "code",
   "execution_count": null,
   "id": "47bb28cf",
   "metadata": {},
   "outputs": [
    {
     "data": {
      "image/png": "[encoded data removed]",
      "text/plain": [
       "<Figure size 1400x1000 with 1 Axes>"
      ]
     },
     "metadata": {},
     "output_type": "display_data"
    }
   ],
   "source": [
    "import pandas as pd\n",
    "import matplotlib.pyplot as plt\n",
    "import seaborn as sns\n",
    "import koreanize_matplotlib\n",
    "\n",
    "resident_top10 = [\n",
    "    '화곡역 4번','까치산역 4번','망리단길','까치산역 1번','관악구 중앙길',\n",
    "    '신림역 5번(신림동주민센터, 신림동별빛거리)','잠실 관광특구','선유도역 1번',\n",
    "    '응암역 3번','길동주민센터(강동도서관)'\n",
    "]\n",
    "working_top10 = [\n",
    "    '명동 남대문 북창동 다동 무교동 관광특구','여의도역(여의도)','잠실 관광특구',\n",
    "    '삼성역','강남 마이스 관광특구','가산디지털단지','매봉역','잠실역','포스코사거리','강남역'\n",
    "]\n",
    "\n",
    "categories = [\n",
    "    '한식음식점', '중식음식점', '일식음식점', '양식음식점',\n",
    "    '제과점', '패스트푸드점', '치킨전문점', '분식전문점',\n",
    "    '호프-간이주점', '커피-음료'\n",
    "]\n",
    "\n",
    "df_filtered = df[\n",
    "    ((df['pop_type']=='RESIDENT') & (df['name'].isin(resident_top10)) |\n",
    "     (df['pop_type']=='WORKING') & (df['name'].isin(working_top10)))\n",
    "    & df['service_category_name'].isin(categories)\n",
    "]\n",
    "\n",
    "agg_df = df_filtered.groupby(['pop_type','name','service_category_name']).agg(\n",
    "    total_shop_count=('shop_count','sum')\n",
    ").reset_index()\n",
    "\n",
    "\n",
    "palette = {'RESIDENT':'#1f77b4', 'WORKING':'#ff7f0e'}\n",
    "plt.figure(figsize=(14, 10))\n",
    "sns.barplot(\n",
    "    data=agg_df,\n",
    "    x='total_shop_count',\n",
    "    y='service_category_name',\n",
    "    hue='pop_type',\n",
    "    palette=palette\n",
    ")\n",
    "plt.title('Pop Type별 상위 10개 상권 Top10 업종 점포 수 비교')\n",
    "plt.xlabel('점포 수 합계')\n",
    "plt.ylabel('업종')\n",
    "plt.legend(title='Pop Type')\n",
    "plt.tight_layout()\n",
    "plt.show()"
   ]
  },
  {
   "cell_type": "markdown",
   "id": "378df481",
   "metadata": {},
   "source": [
    "### 결론\n",
    "인구별(상주인구/직장인구) 매출 탑10 매장들은 한식 음식점이 많았다\n",
    "유동인구는 데이터 매핑을 해도 유의미한 결과가 안 나와서 (숫자 그대로가 아니라 지수를 이용해야 함) 건너뜀"
   ]
  },
  {
   "cell_type": "markdown",
   "id": "524e71a2",
   "metadata": {},
   "source": [
    "## 4.2. 매출/연령/성별 파악"
   ]
  },
  {
   "cell_type": "markdown",
   "id": "f62dcab4",
   "metadata": {},
   "source": [
    "###  DB에서 데이터 가져오기"
   ]
  },
  {
   "cell_type": "code",
   "execution_count": null,
   "id": "77f03e2b",
   "metadata": {},
   "outputs": [
    {
     "name": "stderr",
     "output_type": "stream",
     "text": [
      "/tmp/ipykernel_9848/3026738714.py:78: UserWarning: pandas only supports SQLAlchemy connectable (engine/connection) or database string URI or sqlite3 DBAPI2 connection. Other DBAPI2 objects are not tested. Please consider using SQLAlchemy.\n",
      "  sales_day_df = pd.read_sql(query_day, remote)\n",
      "/tmp/ipykernel_9848/3026738714.py:79: UserWarning: pandas only supports SQLAlchemy connectable (engine/connection) or database string URI or sqlite3 DBAPI2 connection. Other DBAPI2 objects are not tested. Please consider using SQLAlchemy.\n",
      "  sales_sex_df = pd.read_sql(query_sex, remote)\n",
      "/tmp/ipykernel_9848/3026738714.py:80: UserWarning: pandas only supports SQLAlchemy connectable (engine/connection) or database string URI or sqlite3 DBAPI2 connection. Other DBAPI2 objects are not tested. Please consider using SQLAlchemy.\n",
      "  sales_time_df = pd.read_sql(query_time, remote)\n"
     ]
    },
    {
     "name": "stdout",
     "output_type": "stream",
     "text": [
      "  category_name       week   total_sales\n",
      "0         분식전문점     MONDAY  1.613118e+11\n",
      "1         분식전문점    TUESDAY  1.734468e+11\n",
      "2         분식전문점  WEDNESDAY  1.734162e+11\n",
      "3         분식전문점   THURSDAY  1.764660e+11\n",
      "4         분식전문점     FRIDAY  1.869777e+11\n",
      "  category_name     sex   total_sales\n",
      "0         분식전문점    MALE  5.114427e+11\n",
      "1         분식전문점  FEMALE  5.316015e+11\n",
      "2         양식음식점    MALE  5.789689e+11\n",
      "3         양식음식점  FEMALE  5.592079e+11\n",
      "4         일식음식점    MALE  4.567671e+11\n",
      "  category_name   time   total_sales\n",
      "0         분식전문점  00-06  2.379050e+10\n",
      "1         분식전문점  06-11  1.013353e+11\n",
      "2         분식전문점  11-14  3.933612e+11\n",
      "3         분식전문점  14-17  1.980792e+11\n",
      "4         분식전문점  17-21  3.647725e+11\n"
     ]
    }
   ],
   "source": [
    "import mysql.connector\n",
    "import pandas as pd\n",
    "import numpy as np\n",
    "from dotenv import load_dotenv\n",
    "import os\n",
    "\n",
    "load_dotenv()\n",
    "\n",
    "remote = mysql.connector.connect(\n",
    "    host = os.getenv(\"DB_HOST\"),\n",
    "    user = os.getenv(\"DB_USER\"),\n",
    "    password = os.getenv(\"DB_PASSWORD\"),\n",
    "    database = \"triodb\"\n",
    ")\n",
    "\n",
    "query_day = \"\"\"\n",
    "SELECT\n",
    "    sc.name AS category_name,\n",
    "    sd.week,\n",
    "    SUM(sd.sales) AS total_sales\n",
    "FROM Shop_Count s\n",
    "JOIN Service_Category sc\n",
    "    ON s.service_category_code = sc.code\n",
    "JOIN Sales_Day sd\n",
    "    ON s.id = sd.store_id\n",
    "WHERE sc.name IN (\n",
    "    '한식음식점', '중식음식점', '일식음식점', '양식음식점',\n",
    "    '제과점', '패스트푸드점', '치킨전문점', '분식전문점',\n",
    "    '호프-간이주점', '커피-음료'\n",
    ")\n",
    "GROUP BY sc.name, sd.week\n",
    "ORDER BY sc.name, sd.week;\n",
    "\n",
    "\"\"\"\n",
    "\n",
    "query_sex= \"\"\"\n",
    "SELECT\n",
    "    sc.name AS category_name,\n",
    "    ss.sex,\n",
    "    SUM(ss.sales) AS total_sales\n",
    "FROM Shop_Count s\n",
    "JOIN Service_Category sc\n",
    "    ON s.service_category_code = sc.code\n",
    "JOIN Sales_Sex ss\n",
    "    ON s.id = ss.store_id\n",
    "WHERE sc.name IN (\n",
    "    '한식음식점', '중식음식점', '일식음식점', '양식음식점',\n",
    "    '제과점', '패스트푸드점', '치킨전문점', '분식전문점',\n",
    "    '호프-간이주점', '커피-음료'\n",
    ")\n",
    "GROUP BY sc.name, ss.sex\n",
    "ORDER BY sc.name, ss.sex;\n",
    "\"\"\"\n",
    "\n",
    "query_time=\"\"\"\n",
    "SELECT\n",
    "    sc.name AS category_name,\n",
    "    st.time,\n",
    "    SUM(st.sales) AS total_sales\n",
    "FROM Shop_Count s\n",
    "JOIN Service_Category sc\n",
    "    ON s.service_category_code = sc.code\n",
    "JOIN Sales_Time st\n",
    "    ON s.id = st.store_id\n",
    "WHERE sc.name IN (\n",
    "    '한식음식점', '중식음식점', '일식음식점', '양식음식점',\n",
    "    '제과점', '패스트푸드점', '치킨전문점', '분식전문점',\n",
    "    '호프-간이주점', '커피-음료'\n",
    ")\n",
    "GROUP BY sc.name, st.time\n",
    "ORDER BY sc.name, st.time;\n",
    "\"\"\"\n",
    "\n",
    "sales_day_df = pd.read_sql(query_day, remote)\n",
    "sales_sex_df = pd.read_sql(query_sex, remote)\n",
    "sales_time_df = pd.read_sql(query_time, remote)\n",
    "\n",
    "remote.close()\n",
    "\n",
    "print(sales_day_df.head())\n",
    "print(sales_sex_df.head())\n",
    "print(sales_time_df.head())\n"
   ]
  },
  {
   "cell_type": "code",
   "execution_count": 25,
   "id": "3ef1449b",
   "metadata": {},
   "outputs": [
    {
     "name": "stderr",
     "output_type": "stream",
     "text": [
      "/var/folders/x1/3x1wk6hx6g3_dv91vx02k_dm0000gn/T/ipykernel_27962/1473939832.py:56: UserWarning: pandas only supports SQLAlchemy connectable (engine/connection) or database string URI or sqlite3 DBAPI2 connection. Other DBAPI2 objects are not tested. Please consider using SQLAlchemy.\n",
      "  df = pd.read_sql(query, remote)\n"
     ]
    },
    {
     "data": {
      "text/html": [
       "<div>\n",
       "<style scoped>\n",
       "    .dataframe tbody tr th:only-of-type {\n",
       "        vertical-align: middle;\n",
       "    }\n",
       "\n",
       "    .dataframe tbody tr th {\n",
       "        vertical-align: top;\n",
       "    }\n",
       "\n",
       "    .dataframe thead th {\n",
       "        text-align: right;\n",
       "    }\n",
       "</style>\n",
       "<table border=\"1\" class=\"dataframe\">\n",
       "  <thead>\n",
       "    <tr style=\"text-align: right;\">\n",
       "      <th></th>\n",
       "      <th>store_id</th>\n",
       "      <th>commercial_area_name</th>\n",
       "      <th>service_category_code</th>\n",
       "      <th>total_sales</th>\n",
       "      <th>gender</th>\n",
       "      <th>sales_by_gender</th>\n",
       "      <th>age_band</th>\n",
       "      <th>sales_by_age</th>\n",
       "      <th>week_day</th>\n",
       "      <th>sales_by_weekday</th>\n",
       "      <th>time_slot</th>\n",
       "      <th>sales_by_time</th>\n",
       "    </tr>\n",
       "  </thead>\n",
       "  <tbody>\n",
       "    <tr>\n",
       "      <th>0</th>\n",
       "      <td>58410</td>\n",
       "      <td>노량진역(노량진)</td>\n",
       "      <td>CS300008</td>\n",
       "      <td>1.144904e+12</td>\n",
       "      <td>MALE</td>\n",
       "      <td>630887504593</td>\n",
       "      <td>TEENS</td>\n",
       "      <td>419938227</td>\n",
       "      <td>MONDAY</td>\n",
       "      <td>118324535344</td>\n",
       "      <td>00-06</td>\n",
       "      <td>30297569176</td>\n",
       "    </tr>\n",
       "    <tr>\n",
       "      <th>1</th>\n",
       "      <td>58410</td>\n",
       "      <td>노량진역(노량진)</td>\n",
       "      <td>CS300008</td>\n",
       "      <td>1.144904e+12</td>\n",
       "      <td>MALE</td>\n",
       "      <td>630887504593</td>\n",
       "      <td>TEENS</td>\n",
       "      <td>419938227</td>\n",
       "      <td>MONDAY</td>\n",
       "      <td>118324535344</td>\n",
       "      <td>06-11</td>\n",
       "      <td>195120243141</td>\n",
       "    </tr>\n",
       "    <tr>\n",
       "      <th>2</th>\n",
       "      <td>58410</td>\n",
       "      <td>노량진역(노량진)</td>\n",
       "      <td>CS300008</td>\n",
       "      <td>1.144904e+12</td>\n",
       "      <td>MALE</td>\n",
       "      <td>630887504593</td>\n",
       "      <td>TEENS</td>\n",
       "      <td>419938227</td>\n",
       "      <td>MONDAY</td>\n",
       "      <td>118324535344</td>\n",
       "      <td>11-14</td>\n",
       "      <td>256704315137</td>\n",
       "    </tr>\n",
       "    <tr>\n",
       "      <th>3</th>\n",
       "      <td>58410</td>\n",
       "      <td>노량진역(노량진)</td>\n",
       "      <td>CS300008</td>\n",
       "      <td>1.144904e+12</td>\n",
       "      <td>MALE</td>\n",
       "      <td>630887504593</td>\n",
       "      <td>TEENS</td>\n",
       "      <td>419938227</td>\n",
       "      <td>MONDAY</td>\n",
       "      <td>118324535344</td>\n",
       "      <td>14-17</td>\n",
       "      <td>275154245000</td>\n",
       "    </tr>\n",
       "    <tr>\n",
       "      <th>4</th>\n",
       "      <td>58410</td>\n",
       "      <td>노량진역(노량진)</td>\n",
       "      <td>CS300008</td>\n",
       "      <td>1.144904e+12</td>\n",
       "      <td>MALE</td>\n",
       "      <td>630887504593</td>\n",
       "      <td>TEENS</td>\n",
       "      <td>419938227</td>\n",
       "      <td>MONDAY</td>\n",
       "      <td>118324535344</td>\n",
       "      <td>17-21</td>\n",
       "      <td>365472334060</td>\n",
       "    </tr>\n",
       "  </tbody>\n",
       "</table>\n",
       "</div>"
      ],
      "text/plain": [
       "   store_id commercial_area_name service_category_code   total_sales gender  \\\n",
       "0     58410            노량진역(노량진)              CS300008  1.144904e+12   MALE   \n",
       "1     58410            노량진역(노량진)              CS300008  1.144904e+12   MALE   \n",
       "2     58410            노량진역(노량진)              CS300008  1.144904e+12   MALE   \n",
       "3     58410            노량진역(노량진)              CS300008  1.144904e+12   MALE   \n",
       "4     58410            노량진역(노량진)              CS300008  1.144904e+12   MALE   \n",
       "\n",
       "   sales_by_gender age_band  sales_by_age week_day  sales_by_weekday  \\\n",
       "0     630887504593    TEENS     419938227   MONDAY      118324535344   \n",
       "1     630887504593    TEENS     419938227   MONDAY      118324535344   \n",
       "2     630887504593    TEENS     419938227   MONDAY      118324535344   \n",
       "3     630887504593    TEENS     419938227   MONDAY      118324535344   \n",
       "4     630887504593    TEENS     419938227   MONDAY      118324535344   \n",
       "\n",
       "  time_slot  sales_by_time  \n",
       "0     00-06    30297569176  \n",
       "1     06-11   195120243141  \n",
       "2     11-14   256704315137  \n",
       "3     14-17   275154245000  \n",
       "4     17-21   365472334060  "
      ]
     },
     "execution_count": 25,
     "metadata": {},
     "output_type": "execute_result"
    }
   ],
   "source": [
    "import mysql.connector\n",
    "import pandas as pd\n",
    "import numpy as np\n",
    "from dotenv import load_dotenv\n",
    "import os\n",
    "\n",
    "load_dotenv()\n",
    "\n",
    "remote = mysql.connector.connect(\n",
    "    host = os.getenv(\"DB_HOST\"),\n",
    "    user = os.getenv(\"DB_USER\"),\n",
    "    password = os.getenv(\"DB_PASSWORD\"),\n",
    "    database = \"triodb\"\n",
    ")\n",
    "\n",
    "query = \"\"\"\n",
    "SELECT \n",
    "    ts.store_id,\n",
    "    ts.commercial_area_name,\n",
    "    ts.service_category_code,\n",
    "    ts.total_sales,\n",
    "    \n",
    "    sex.sex AS gender,\n",
    "    sex.sales AS sales_by_gender,\n",
    "    \n",
    "    age.age AS age_band,\n",
    "    age.sales AS sales_by_age,\n",
    "    \n",
    "    sd.week AS week_day,\n",
    "    sd.sales AS sales_by_weekday,\n",
    "    \n",
    "    st.time AS time_slot,\n",
    "    st.sales AS sales_by_time\n",
    "\n",
    "FROM\n",
    "(\n",
    "    SELECT \n",
    "        sc.id AS store_id,\n",
    "        ca.name AS commercial_area_name,\n",
    "        sc.service_category_code,\n",
    "        SUM(st.sales) AS total_sales\n",
    "    FROM Shop_Count sc\n",
    "    JOIN Sales_Time st ON sc.id = st.store_id\n",
    "    JOIN Commercial_Area ca ON sc.commercial_area_code = ca.code\n",
    "    GROUP BY sc.id, ca.name, sc.service_category_code\n",
    "    ORDER BY total_sales DESC\n",
    "    LIMIT 20\n",
    ") ts\n",
    "LEFT JOIN Sales_Sex sex ON ts.store_id = sex.store_id\n",
    "LEFT JOIN Sales_Age age ON ts.store_id = age.store_id\n",
    "LEFT JOIN Sales_Day sd ON ts.store_id = sd.store_id\n",
    "LEFT JOIN Sales_Time st ON ts.store_id = st.store_id\n",
    "ORDER BY ts.total_sales DESC, ts.store_id;\n",
    "\"\"\"\n",
    "\n",
    "df = pd.read_sql(query, remote)\n",
    "\n",
    "remote.close()\n",
    "\n",
    "df.head()"
   ]
  },
  {
   "cell_type": "markdown",
   "id": "8b4b5521",
   "metadata": {},
   "source": [
    "### 시각화"
   ]
  },
  {
   "cell_type": "code",
   "execution_count": 3,
   "id": "69e38d69",
   "metadata": {},
   "outputs": [
    {
     "name": "stdout",
     "output_type": "stream",
     "text": [
      "  category_name       week   total_sales\n",
      "0         분식전문점     MONDAY  1.613118e+11\n",
      "1         분식전문점    TUESDAY  1.734468e+11\n",
      "2         분식전문점  WEDNESDAY  1.734162e+11\n",
      "3         분식전문점   THURSDAY  1.764660e+11\n",
      "4         분식전문점     FRIDAY  1.869777e+11\n",
      "  category_name     sex   total_sales\n",
      "0         분식전문점    MALE  5.114427e+11\n",
      "1         분식전문점  FEMALE  5.316015e+11\n",
      "2         양식음식점    MALE  5.789689e+11\n",
      "3         양식음식점  FEMALE  5.592079e+11\n",
      "4         일식음식점    MALE  4.567671e+11\n",
      "  category_name   time   total_sales\n",
      "0         분식전문점  00-06  2.379050e+10\n",
      "1         분식전문점  06-11  1.013353e+11\n",
      "2         분식전문점  11-14  3.933612e+11\n",
      "3         분식전문점  14-17  1.980792e+11\n",
      "4         분식전문점  17-21  3.647725e+11\n"
     ]
    }
   ],
   "source": [
    "\n",
    "print(sales_day_df.head())\n",
    "print(sales_sex_df.head())\n",
    "print(sales_time_df.head())"
   ]
  },
  {
   "cell_type": "code",
   "execution_count": 11,
   "id": "cd39ebd0",
   "metadata": {},
   "outputs": [
    {
     "data": {
      "application/vnd.plotly.v1+json": {
       "config": {
        "plotlyServerURL": "https://plot.ly"
       },
       "data": [
        {
         "alignmentgroup": "True",
         "hovertemplate": "카테고리=분식전문점<br>요일=%{x}<br>매출액=%{y}<extra></extra>",
         "legendgroup": "분식전문점",
         "marker": {
          "color": "#636efa",
          "pattern": {
           "shape": ""
          }
         },
         "name": "분식전문점",
         "offsetgroup": "분식전문점",
         "orientation": "v",
         "showlegend": true,
         "textposition": "auto",
         "type": "bar",
         "x": [
          "MONDAY",
          "TUESDAY",
          "WEDNESDAY",
          "THURSDAY",
          "FRIDAY",
          "SATURDAY",
          "SUNDAY"
         ],
         "xaxis": "x",
         "y": {
          "bdata": "AAAKq3fHQkIAAINWHjFEQgCAZfI0MERCAAA3kRiLREIAAGVMXsRFQgCACvjHwUNCAABROdZXPUI=",
          "dtype": "f8"
         },
         "yaxis": "y"
        },
        {
         "alignmentgroup": "True",
         "hovertemplate": "카테고리=양식음식점<br>요일=%{x}<br>매출액=%{y}<extra></extra>",
         "legendgroup": "양식음식점",
         "marker": {
          "color": "#EF553B",
          "pattern": {
           "shape": ""
          }
         },
         "name": "양식음식점",
         "offsetgroup": "양식음식점",
         "orientation": "v",
         "showlegend": true,
         "textposition": "auto",
         "type": "bar",
         "x": [
          "MONDAY",
          "TUESDAY",
          "WEDNESDAY",
          "THURSDAY",
          "FRIDAY",
          "SATURDAY",
          "SUNDAY"
         ],
         "xaxis": "x",
         "y": {
          "bdata": "AABeVt4NQkIAgLPwTm5FQgAAsofEOUdCAICR82t5R0IAAF573OpKQgCAlPKC605CAICOQM2zRkI=",
          "dtype": "f8"
         },
         "yaxis": "y"
        },
        {
         "alignmentgroup": "True",
         "hovertemplate": "카테고리=일식음식점<br>요일=%{x}<br>매출액=%{y}<extra></extra>",
         "legendgroup": "일식음식점",
         "marker": {
          "color": "#00cc96",
          "pattern": {
           "shape": ""
          }
         },
         "name": "일식음식점",
         "offsetgroup": "일식음식점",
         "orientation": "v",
         "showlegend": true,
         "textposition": "auto",
         "type": "bar",
         "x": [
          "MONDAY",
          "TUESDAY",
          "WEDNESDAY",
          "THURSDAY",
          "FRIDAY",
          "SATURDAY",
          "SUNDAY"
         ],
         "xaxis": "x",
         "y": {
          "bdata": "AABOFbe5QEIAAOK1wPtCQgAAAerRCkNCAAAq61EOREIAgPTA8mZFQgAAZNQsUUFCAAAMk5KZNUI=",
          "dtype": "f8"
         },
         "yaxis": "y"
        },
        {
         "alignmentgroup": "True",
         "hovertemplate": "카테고리=제과점<br>요일=%{x}<br>매출액=%{y}<extra></extra>",
         "legendgroup": "제과점",
         "marker": {
          "color": "#ab63fa",
          "pattern": {
           "shape": ""
          }
         },
         "name": "제과점",
         "offsetgroup": "제과점",
         "orientation": "v",
         "showlegend": true,
         "textposition": "auto",
         "type": "bar",
         "x": [
          "MONDAY",
          "TUESDAY",
          "WEDNESDAY",
          "THURSDAY",
          "FRIDAY",
          "SATURDAY",
          "SUNDAY"
         ],
         "xaxis": "x",
         "y": {
          "bdata": "AADs/0M+OEIAAHaXy7I6QgAAX2R+fDpCAADI9dHaOUIAALlJIXw8QgAAEMVbEDpCAADbHNoGNUI=",
          "dtype": "f8"
         },
         "yaxis": "y"
        },
        {
         "alignmentgroup": "True",
         "hovertemplate": "카테고리=중식음식점<br>요일=%{x}<br>매출액=%{y}<extra></extra>",
         "legendgroup": "중식음식점",
         "marker": {
          "color": "#FFA15A",
          "pattern": {
           "shape": ""
          }
         },
         "name": "중식음식점",
         "offsetgroup": "중식음식점",
         "orientation": "v",
         "showlegend": true,
         "textposition": "auto",
         "type": "bar",
         "x": [
          "MONDAY",
          "TUESDAY",
          "WEDNESDAY",
          "THURSDAY",
          "FRIDAY",
          "SATURDAY",
          "SUNDAY"
         ],
         "xaxis": "x",
         "y": {
          "bdata": "AAByrSDBPkIAAJmWZTRBQgCA83e2YUFCAIAynlgXQkIAAAtkCWdDQgAATmXAg0BCAABt81Y3O0I=",
          "dtype": "f8"
         },
         "yaxis": "y"
        },
        {
         "alignmentgroup": "True",
         "hovertemplate": "카테고리=치킨전문점<br>요일=%{x}<br>매출액=%{y}<extra></extra>",
         "legendgroup": "치킨전문점",
         "marker": {
          "color": "#19d3f3",
          "pattern": {
           "shape": ""
          }
         },
         "name": "치킨전문점",
         "offsetgroup": "치킨전문점",
         "orientation": "v",
         "showlegend": true,
         "textposition": "auto",
         "type": "bar",
         "x": [
          "MONDAY",
          "TUESDAY",
          "WEDNESDAY",
          "THURSDAY",
          "FRIDAY",
          "SATURDAY",
          "SUNDAY"
         ],
         "xaxis": "x",
         "y": {
          "bdata": "AADw5JOOJ0IAALS0OucqQgAALnH4sCtCAADc4Nn+LEIAAOSd3lIwQgAAUpu/GS1CAADABrN9JEI=",
          "dtype": "f8"
         },
         "yaxis": "y"
        },
        {
         "alignmentgroup": "True",
         "hovertemplate": "카테고리=커피-음료<br>요일=%{x}<br>매출액=%{y}<extra></extra>",
         "legendgroup": "커피-음료",
         "marker": {
          "color": "#FF6692",
          "pattern": {
           "shape": ""
          }
         },
         "name": "커피-음료",
         "offsetgroup": "커피-음료",
         "orientation": "v",
         "showlegend": true,
         "textposition": "auto",
         "type": "bar",
         "x": [
          "MONDAY",
          "TUESDAY",
          "WEDNESDAY",
          "THURSDAY",
          "FRIDAY",
          "SATURDAY",
          "SUNDAY"
         ],
         "xaxis": "x",
         "y": {
          "bdata": "AIAxjzKIVkIAAOhtiWpYQgCA/QPGfVhCAMCIb3nWWEIAABMGHShaQgAAQAlHqVZCAAAPU4tmUkI=",
          "dtype": "f8"
         },
         "yaxis": "y"
        },
        {
         "alignmentgroup": "True",
         "hovertemplate": "카테고리=패스트푸드점<br>요일=%{x}<br>매출액=%{y}<extra></extra>",
         "legendgroup": "패스트푸드점",
         "marker": {
          "color": "#B6E880",
          "pattern": {
           "shape": ""
          }
         },
         "name": "패스트푸드점",
         "offsetgroup": "패스트푸드점",
         "orientation": "v",
         "showlegend": true,
         "textposition": "auto",
         "type": "bar",
         "x": [
          "MONDAY",
          "TUESDAY",
          "WEDNESDAY",
          "THURSDAY",
          "FRIDAY",
          "SATURDAY",
          "SUNDAY"
         ],
         "xaxis": "x",
         "y": {
          "bdata": "AAA5HkBlM0IAAC8K9oA0QgAAVIebIzVCAADGCr56NUIAACyFhzg3QgAAgbG5lzdCAAAF7Rn+NEI=",
          "dtype": "f8"
         },
         "yaxis": "y"
        },
        {
         "alignmentgroup": "True",
         "hovertemplate": "카테고리=한식음식점<br>요일=%{x}<br>매출액=%{y}<extra></extra>",
         "legendgroup": "한식음식점",
         "marker": {
          "color": "#FF97FF",
          "pattern": {
           "shape": ""
          }
         },
         "name": "한식음식점",
         "offsetgroup": "한식음식점",
         "orientation": "v",
         "showlegend": true,
         "textposition": "auto",
         "type": "bar",
         "x": [
          "MONDAY",
          "TUESDAY",
          "SUNDAY"
         ],
         "xaxis": "x",
         "y": {
          "bdata": "AMBZnI8xfUIAIFbZYrh/QgBgoJy5ZXdC",
          "dtype": "f8"
         },
         "yaxis": "y"
        },
        {
         "alignmentgroup": "True",
         "hovertemplate": "카테고리=호프-간이주점<br>요일=%{x}<br>매출액=%{y}<extra></extra>",
         "legendgroup": "호프-간이주점",
         "marker": {
          "color": "#FECB52",
          "pattern": {
           "shape": ""
          }
         },
         "name": "호프-간이주점",
         "offsetgroup": "호프-간이주점",
         "orientation": "v",
         "showlegend": true,
         "textposition": "auto",
         "type": "bar",
         "x": [
          "MONDAY",
          "TUESDAY",
          "WEDNESDAY",
          "THURSDAY",
          "FRIDAY",
          "SATURDAY",
          "SUNDAY"
         ],
         "xaxis": "x",
         "y": {
          "bdata": "AMAP6leMVEIAgKycRTVYQgDA59jl/1hCAIDuCRbnWUIAwOaKhUtfQgDg5PT9cmFCAAAqOavaVkI=",
          "dtype": "f8"
         },
         "yaxis": "y"
        }
       ],
       "layout": {
        "barmode": "group",
        "legend": {
         "title": {
          "text": "카테고리"
         },
         "tracegroupgap": 0,
         "x": 1.05,
         "y": 1
        },
        "template": {
         "data": {
          "bar": [
           {
            "error_x": {
             "color": "#2a3f5f"
            },
            "error_y": {
             "color": "#2a3f5f"
            },
            "marker": {
             "line": {
              "color": "#E5ECF6",
              "width": 0.5
             },
             "pattern": {
              "fillmode": "overlay",
              "size": 10,
              "solidity": 0.2
             }
            },
            "type": "bar"
           }
          ],
          "barpolar": [
           {
            "marker": {
             "line": {
              "color": "#E5ECF6",
              "width": 0.5
             },
             "pattern": {
              "fillmode": "overlay",
              "size": 10,
              "solidity": 0.2
             }
            },
            "type": "barpolar"
           }
          ],
          "carpet": [
           {
            "aaxis": {
             "endlinecolor": "#2a3f5f",
             "gridcolor": "white",
             "linecolor": "white",
             "minorgridcolor": "white",
             "startlinecolor": "#2a3f5f"
            },
            "baxis": {
             "endlinecolor": "#2a3f5f",
             "gridcolor": "white",
             "linecolor": "white",
             "minorgridcolor": "white",
             "startlinecolor": "#2a3f5f"
            },
            "type": "carpet"
           }
          ],
          "choropleth": [
           {
            "colorbar": {
             "outlinewidth": 0,
             "ticks": ""
            },
            "type": "choropleth"
           }
          ],
          "contour": [
           {
            "colorbar": {
             "outlinewidth": 0,
             "ticks": ""
            },
            "colorscale": [
             [
              0,
              "#0d0887"
             ],
             [
              0.1111111111111111,
              "#46039f"
             ],
             [
              0.2222222222222222,
              "#7201a8"
             ],
             [
              0.3333333333333333,
              "#9c179e"
             ],
             [
              0.4444444444444444,
              "#bd3786"
             ],
             [
              0.5555555555555556,
              "#d8576b"
             ],
             [
              0.6666666666666666,
              "#ed7953"
             ],
             [
              0.7777777777777778,
              "#fb9f3a"
             ],
             [
              0.8888888888888888,
              "#fdca26"
             ],
             [
              1,
              "#f0f921"
             ]
            ],
            "type": "contour"
           }
          ],
          "contourcarpet": [
           {
            "colorbar": {
             "outlinewidth": 0,
             "ticks": ""
            },
            "type": "contourcarpet"
           }
          ],
          "heatmap": [
           {
            "colorbar": {
             "outlinewidth": 0,
             "ticks": ""
            },
            "colorscale": [
             [
              0,
              "#0d0887"
             ],
             [
              0.1111111111111111,
              "#46039f"
             ],
             [
              0.2222222222222222,
              "#7201a8"
             ],
             [
              0.3333333333333333,
              "#9c179e"
             ],
             [
              0.4444444444444444,
              "#bd3786"
             ],
             [
              0.5555555555555556,
              "#d8576b"
             ],
             [
              0.6666666666666666,
              "#ed7953"
             ],
             [
              0.7777777777777778,
              "#fb9f3a"
             ],
             [
              0.8888888888888888,
              "#fdca26"
             ],
             [
              1,
              "#f0f921"
             ]
            ],
            "type": "heatmap"
           }
          ],
          "histogram": [
           {
            "marker": {
             "pattern": {
              "fillmode": "overlay",
              "size": 10,
              "solidity": 0.2
             }
            },
            "type": "histogram"
           }
          ],
          "histogram2d": [
           {
            "colorbar": {
             "outlinewidth": 0,
             "ticks": ""
            },
            "colorscale": [
             [
              0,
              "#0d0887"
             ],
             [
              0.1111111111111111,
              "#46039f"
             ],
             [
              0.2222222222222222,
              "#7201a8"
             ],
             [
              0.3333333333333333,
              "#9c179e"
             ],
             [
              0.4444444444444444,
              "#bd3786"
             ],
             [
              0.5555555555555556,
              "#d8576b"
             ],
             [
              0.6666666666666666,
              "#ed7953"
             ],
             [
              0.7777777777777778,
              "#fb9f3a"
             ],
             [
              0.8888888888888888,
              "#fdca26"
             ],
             [
              1,
              "#f0f921"
             ]
            ],
            "type": "histogram2d"
           }
          ],
          "histogram2dcontour": [
           {
            "colorbar": {
             "outlinewidth": 0,
             "ticks": ""
            },
            "colorscale": [
             [
              0,
              "#0d0887"
             ],
             [
              0.1111111111111111,
              "#46039f"
             ],
             [
              0.2222222222222222,
              "#7201a8"
             ],
             [
              0.3333333333333333,
              "#9c179e"
             ],
             [
              0.4444444444444444,
              "#bd3786"
             ],
             [
              0.5555555555555556,
              "#d8576b"
             ],
             [
              0.6666666666666666,
              "#ed7953"
             ],
             [
              0.7777777777777778,
              "#fb9f3a"
             ],
             [
              0.8888888888888888,
              "#fdca26"
             ],
             [
              1,
              "#f0f921"
             ]
            ],
            "type": "histogram2dcontour"
           }
          ],
          "mesh3d": [
           {
            "colorbar": {
             "outlinewidth": 0,
             "ticks": ""
            },
            "type": "mesh3d"
           }
          ],
          "parcoords": [
           {
            "line": {
             "colorbar": {
              "outlinewidth": 0,
              "ticks": ""
             }
            },
            "type": "parcoords"
           }
          ],
          "pie": [
           {
            "automargin": true,
            "type": "pie"
           }
          ],
          "scatter": [
           {
            "fillpattern": {
             "fillmode": "overlay",
             "size": 10,
             "solidity": 0.2
            },
            "type": "scatter"
           }
          ],
          "scatter3d": [
           {
            "line": {
             "colorbar": {
              "outlinewidth": 0,
              "ticks": ""
             }
            },
            "marker": {
             "colorbar": {
              "outlinewidth": 0,
              "ticks": ""
             }
            },
            "type": "scatter3d"
           }
          ],
          "scattercarpet": [
           {
            "marker": {
             "colorbar": {
              "outlinewidth": 0,
              "ticks": ""
             }
            },
            "type": "scattercarpet"
           }
          ],
          "scattergeo": [
           {
            "marker": {
             "colorbar": {
              "outlinewidth": 0,
              "ticks": ""
             }
            },
            "type": "scattergeo"
           }
          ],
          "scattergl": [
           {
            "marker": {
             "colorbar": {
              "outlinewidth": 0,
              "ticks": ""
             }
            },
            "type": "scattergl"
           }
          ],
          "scattermap": [
           {
            "marker": {
             "colorbar": {
              "outlinewidth": 0,
              "ticks": ""
             }
            },
            "type": "scattermap"
           }
          ],
          "scattermapbox": [
           {
            "marker": {
             "colorbar": {
              "outlinewidth": 0,
              "ticks": ""
             }
            },
            "type": "scattermapbox"
           }
          ],
          "scatterpolar": [
           {
            "marker": {
             "colorbar": {
              "outlinewidth": 0,
              "ticks": ""
             }
            },
            "type": "scatterpolar"
           }
          ],
          "scatterpolargl": [
           {
            "marker": {
             "colorbar": {
              "outlinewidth": 0,
              "ticks": ""
             }
            },
            "type": "scatterpolargl"
           }
          ],
          "scatterternary": [
           {
            "marker": {
             "colorbar": {
              "outlinewidth": 0,
              "ticks": ""
             }
            },
            "type": "scatterternary"
           }
          ],
          "surface": [
           {
            "colorbar": {
             "outlinewidth": 0,
             "ticks": ""
            },
            "colorscale": [
             [
              0,
              "#0d0887"
             ],
             [
              0.1111111111111111,
              "#46039f"
             ],
             [
              0.2222222222222222,
              "#7201a8"
             ],
             [
              0.3333333333333333,
              "#9c179e"
             ],
             [
              0.4444444444444444,
              "#bd3786"
             ],
             [
              0.5555555555555556,
              "#d8576b"
             ],
             [
              0.6666666666666666,
              "#ed7953"
             ],
             [
              0.7777777777777778,
              "#fb9f3a"
             ],
             [
              0.8888888888888888,
              "#fdca26"
             ],
             [
              1,
              "#f0f921"
             ]
            ],
            "type": "surface"
           }
          ],
          "table": [
           {
            "cells": {
             "fill": {
              "color": "#EBF0F8"
             },
             "line": {
              "color": "white"
             }
            },
            "header": {
             "fill": {
              "color": "#C8D4E3"
             },
             "line": {
              "color": "white"
             }
            },
            "type": "table"
           }
          ]
         },
         "layout": {
          "annotationdefaults": {
           "arrowcolor": "#2a3f5f",
           "arrowhead": 0,
           "arrowwidth": 1
          },
          "autotypenumbers": "strict",
          "coloraxis": {
           "colorbar": {
            "outlinewidth": 0,
            "ticks": ""
           }
          },
          "colorscale": {
           "diverging": [
            [
             0,
             "#8e0152"
            ],
            [
             0.1,
             "#c51b7d"
            ],
            [
             0.2,
             "#de77ae"
            ],
            [
             0.3,
             "#f1b6da"
            ],
            [
             0.4,
             "#fde0ef"
            ],
            [
             0.5,
             "#f7f7f7"
            ],
            [
             0.6,
             "#e6f5d0"
            ],
            [
             0.7,
             "#b8e186"
            ],
            [
             0.8,
             "#7fbc41"
            ],
            [
             0.9,
             "#4d9221"
            ],
            [
             1,
             "#276419"
            ]
           ],
           "sequential": [
            [
             0,
             "#0d0887"
            ],
            [
             0.1111111111111111,
             "#46039f"
            ],
            [
             0.2222222222222222,
             "#7201a8"
            ],
            [
             0.3333333333333333,
             "#9c179e"
            ],
            [
             0.4444444444444444,
             "#bd3786"
            ],
            [
             0.5555555555555556,
             "#d8576b"
            ],
            [
             0.6666666666666666,
             "#ed7953"
            ],
            [
             0.7777777777777778,
             "#fb9f3a"
            ],
            [
             0.8888888888888888,
             "#fdca26"
            ],
            [
             1,
             "#f0f921"
            ]
           ],
           "sequentialminus": [
            [
             0,
             "#0d0887"
            ],
            [
             0.1111111111111111,
             "#46039f"
            ],
            [
             0.2222222222222222,
             "#7201a8"
            ],
            [
             0.3333333333333333,
             "#9c179e"
            ],
            [
             0.4444444444444444,
             "#bd3786"
            ],
            [
             0.5555555555555556,
             "#d8576b"
            ],
            [
             0.6666666666666666,
             "#ed7953"
            ],
            [
             0.7777777777777778,
             "#fb9f3a"
            ],
            [
             0.8888888888888888,
             "#fdca26"
            ],
            [
             1,
             "#f0f921"
            ]
           ]
          },
          "colorway": [
           "#636efa",
           "#EF553B",
           "#00cc96",
           "#ab63fa",
           "#FFA15A",
           "#19d3f3",
           "#FF6692",
           "#B6E880",
           "#FF97FF",
           "#FECB52"
          ],
          "font": {
           "color": "#2a3f5f"
          },
          "geo": {
           "bgcolor": "white",
           "lakecolor": "white",
           "landcolor": "#E5ECF6",
           "showlakes": true,
           "showland": true,
           "subunitcolor": "white"
          },
          "hoverlabel": {
           "align": "left"
          },
          "hovermode": "closest",
          "mapbox": {
           "style": "light"
          },
          "paper_bgcolor": "white",
          "plot_bgcolor": "#E5ECF6",
          "polar": {
           "angularaxis": {
            "gridcolor": "white",
            "linecolor": "white",
            "ticks": ""
           },
           "bgcolor": "#E5ECF6",
           "radialaxis": {
            "gridcolor": "white",
            "linecolor": "white",
            "ticks": ""
           }
          },
          "scene": {
           "xaxis": {
            "backgroundcolor": "#E5ECF6",
            "gridcolor": "white",
            "gridwidth": 2,
            "linecolor": "white",
            "showbackground": true,
            "ticks": "",
            "zerolinecolor": "white"
           },
           "yaxis": {
            "backgroundcolor": "#E5ECF6",
            "gridcolor": "white",
            "gridwidth": 2,
            "linecolor": "white",
            "showbackground": true,
            "ticks": "",
            "zerolinecolor": "white"
           },
           "zaxis": {
            "backgroundcolor": "#E5ECF6",
            "gridcolor": "white",
            "gridwidth": 2,
            "linecolor": "white",
            "showbackground": true,
            "ticks": "",
            "zerolinecolor": "white"
           }
          },
          "shapedefaults": {
           "line": {
            "color": "#2a3f5f"
           }
          },
          "ternary": {
           "aaxis": {
            "gridcolor": "white",
            "linecolor": "white",
            "ticks": ""
           },
           "baxis": {
            "gridcolor": "white",
            "linecolor": "white",
            "ticks": ""
           },
           "bgcolor": "#E5ECF6",
           "caxis": {
            "gridcolor": "white",
            "linecolor": "white",
            "ticks": ""
           }
          },
          "title": {
           "x": 0.05
          },
          "xaxis": {
           "automargin": true,
           "gridcolor": "white",
           "linecolor": "white",
           "ticks": "",
           "title": {
            "standoff": 15
           },
           "zerolinecolor": "white",
           "zerolinewidth": 2
          },
          "yaxis": {
           "automargin": true,
           "gridcolor": "white",
           "linecolor": "white",
           "ticks": "",
           "title": {
            "standoff": 15
           },
           "zerolinecolor": "white",
           "zerolinewidth": 2
          }
         }
        },
        "title": {
         "text": "요식업 카테고리별 요일별 매출 합계 (상위 5% 제외)"
        },
        "xaxis": {
         "anchor": "y",
         "domain": [
          0,
          1
         ],
         "title": {
          "text": "요일"
         }
        },
        "yaxis": {
         "anchor": "x",
         "domain": [
          0,
          1
         ],
         "title": {
          "text": "매출액"
         }
        }
       }
      }
     },
     "metadata": {},
     "output_type": "display_data"
    }
   ],
   "source": [
    "import pandas as pd\n",
    "import plotly.express as px\n",
    "\n",
    "# category_name을 문자열로 변환\n",
    "sales_day_df['category_name'] = sales_day_df['category_name'].astype(str)\n",
    "\n",
    "# 상위 5% 이상 매출 제거\n",
    "threshold = sales_day_df['total_sales'].quantile(0.95)\n",
    "filtered_df = sales_day_df[sales_day_df['total_sales'] <= threshold]\n",
    "\n",
    "# Plotly로 요일별/카테고리별 매출 그래프\n",
    "fig = px.bar(\n",
    "    filtered_df,\n",
    "    x='week',\n",
    "    y='total_sales',\n",
    "    color='category_name',\n",
    "    labels={\n",
    "        'week': '요일',\n",
    "        'total_sales': '매출액',\n",
    "        'category_name': '카테고리'\n",
    "    },\n",
    "    title='요식업 카테고리별 요일별 매출 합계 (상위 5% 제외)',\n",
    "    barmode='group'\n",
    ")\n",
    "\n",
    "# 범례 위치 조정\n",
    "fig.update_layout(\n",
    "    legend=dict(title='카테고리', x=1.05, y=1)\n",
    ")\n",
    "\n",
    "fig.show()\n",
    "\n"
   ]
  },
  {
   "cell_type": "code",
   "execution_count": 24,
   "id": "2ae44f8f",
   "metadata": {},
   "outputs": [
    {
     "data": {
      "application/vnd.plotly.v1+json": {
       "config": {
        "plotlyServerURL": "https://plot.ly"
       },
       "data": [
        {
         "alignmentgroup": "True",
         "hovertemplate": "카테고리=분식전문점<br>요일=%{x}<br>매출액=%{y}<extra></extra>",
         "legendgroup": "분식전문점",
         "marker": {
          "color": "#636efa",
          "pattern": {
           "shape": ""
          }
         },
         "name": "분식전문점",
         "offsetgroup": "분식전문점",
         "orientation": "v",
         "showlegend": true,
         "textposition": "auto",
         "type": "bar",
         "x": [
          "MONDAY",
          "TUESDAY",
          "WEDNESDAY",
          "THURSDAY",
          "FRIDAY",
          "SATURDAY",
          "SUNDAY"
         ],
         "xaxis": "x",
         "y": {
          "bdata": "AAAKq3fHQkIAAINWHjFEQgCAZfI0MERCAAA3kRiLREIAAGVMXsRFQgCACvjHwUNCAABROdZXPUI=",
          "dtype": "f8"
         },
         "yaxis": "y"
        },
        {
         "alignmentgroup": "True",
         "hovertemplate": "카테고리=양식음식점<br>요일=%{x}<br>매출액=%{y}<extra></extra>",
         "legendgroup": "양식음식점",
         "marker": {
          "color": "#EF553B",
          "pattern": {
           "shape": ""
          }
         },
         "name": "양식음식점",
         "offsetgroup": "양식음식점",
         "orientation": "v",
         "showlegend": true,
         "textposition": "auto",
         "type": "bar",
         "x": [
          "MONDAY",
          "TUESDAY",
          "WEDNESDAY",
          "THURSDAY",
          "FRIDAY",
          "SATURDAY",
          "SUNDAY"
         ],
         "xaxis": "x",
         "y": {
          "bdata": "AABeVt4NQkIAgLPwTm5FQgAAsofEOUdCAICR82t5R0IAAF573OpKQgCAlPKC605CAICOQM2zRkI=",
          "dtype": "f8"
         },
         "yaxis": "y"
        },
        {
         "alignmentgroup": "True",
         "hovertemplate": "카테고리=일식음식점<br>요일=%{x}<br>매출액=%{y}<extra></extra>",
         "legendgroup": "일식음식점",
         "marker": {
          "color": "#00cc96",
          "pattern": {
           "shape": ""
          }
         },
         "name": "일식음식점",
         "offsetgroup": "일식음식점",
         "orientation": "v",
         "showlegend": true,
         "textposition": "auto",
         "type": "bar",
         "x": [
          "MONDAY",
          "TUESDAY",
          "WEDNESDAY",
          "THURSDAY",
          "FRIDAY",
          "SATURDAY",
          "SUNDAY"
         ],
         "xaxis": "x",
         "y": {
          "bdata": "AABOFbe5QEIAAOK1wPtCQgAAAerRCkNCAAAq61EOREIAgPTA8mZFQgAAZNQsUUFCAAAMk5KZNUI=",
          "dtype": "f8"
         },
         "yaxis": "y"
        },
        {
         "alignmentgroup": "True",
         "hovertemplate": "카테고리=제과점<br>요일=%{x}<br>매출액=%{y}<extra></extra>",
         "legendgroup": "제과점",
         "marker": {
          "color": "#ab63fa",
          "pattern": {
           "shape": ""
          }
         },
         "name": "제과점",
         "offsetgroup": "제과점",
         "orientation": "v",
         "showlegend": true,
         "textposition": "auto",
         "type": "bar",
         "x": [
          "MONDAY",
          "TUESDAY",
          "WEDNESDAY",
          "THURSDAY",
          "FRIDAY",
          "SATURDAY",
          "SUNDAY"
         ],
         "xaxis": "x",
         "y": {
          "bdata": "AADs/0M+OEIAAHaXy7I6QgAAX2R+fDpCAADI9dHaOUIAALlJIXw8QgAAEMVbEDpCAADbHNoGNUI=",
          "dtype": "f8"
         },
         "yaxis": "y"
        },
        {
         "alignmentgroup": "True",
         "hovertemplate": "카테고리=중식음식점<br>요일=%{x}<br>매출액=%{y}<extra></extra>",
         "legendgroup": "중식음식점",
         "marker": {
          "color": "#FFA15A",
          "pattern": {
           "shape": ""
          }
         },
         "name": "중식음식점",
         "offsetgroup": "중식음식점",
         "orientation": "v",
         "showlegend": true,
         "textposition": "auto",
         "type": "bar",
         "x": [
          "MONDAY",
          "TUESDAY",
          "WEDNESDAY",
          "THURSDAY",
          "FRIDAY",
          "SATURDAY",
          "SUNDAY"
         ],
         "xaxis": "x",
         "y": {
          "bdata": "AAByrSDBPkIAAJmWZTRBQgCA83e2YUFCAIAynlgXQkIAAAtkCWdDQgAATmXAg0BCAABt81Y3O0I=",
          "dtype": "f8"
         },
         "yaxis": "y"
        },
        {
         "alignmentgroup": "True",
         "hovertemplate": "카테고리=치킨전문점<br>요일=%{x}<br>매출액=%{y}<extra></extra>",
         "legendgroup": "치킨전문점",
         "marker": {
          "color": "#19d3f3",
          "pattern": {
           "shape": ""
          }
         },
         "name": "치킨전문점",
         "offsetgroup": "치킨전문점",
         "orientation": "v",
         "showlegend": true,
         "textposition": "auto",
         "type": "bar",
         "x": [
          "MONDAY",
          "TUESDAY",
          "WEDNESDAY",
          "THURSDAY",
          "FRIDAY",
          "SATURDAY",
          "SUNDAY"
         ],
         "xaxis": "x",
         "y": {
          "bdata": "AADw5JOOJ0IAALS0OucqQgAALnH4sCtCAADc4Nn+LEIAAOSd3lIwQgAAUpu/GS1CAADABrN9JEI=",
          "dtype": "f8"
         },
         "yaxis": "y"
        },
        {
         "alignmentgroup": "True",
         "hovertemplate": "카테고리=커피-음료<br>요일=%{x}<br>매출액=%{y}<extra></extra>",
         "legendgroup": "커피-음료",
         "marker": {
          "color": "#FF6692",
          "pattern": {
           "shape": ""
          }
         },
         "name": "커피-음료",
         "offsetgroup": "커피-음료",
         "orientation": "v",
         "showlegend": true,
         "textposition": "auto",
         "type": "bar",
         "x": [
          "MONDAY",
          "TUESDAY",
          "WEDNESDAY",
          "THURSDAY",
          "FRIDAY",
          "SATURDAY",
          "SUNDAY"
         ],
         "xaxis": "x",
         "y": {
          "bdata": "AIAxjzKIVkIAAOhtiWpYQgCA/QPGfVhCAMCIb3nWWEIAABMGHShaQgAAQAlHqVZCAAAPU4tmUkI=",
          "dtype": "f8"
         },
         "yaxis": "y"
        },
        {
         "alignmentgroup": "True",
         "hovertemplate": "카테고리=패스트푸드점<br>요일=%{x}<br>매출액=%{y}<extra></extra>",
         "legendgroup": "패스트푸드점",
         "marker": {
          "color": "#B6E880",
          "pattern": {
           "shape": ""
          }
         },
         "name": "패스트푸드점",
         "offsetgroup": "패스트푸드점",
         "orientation": "v",
         "showlegend": true,
         "textposition": "auto",
         "type": "bar",
         "x": [
          "MONDAY",
          "TUESDAY",
          "WEDNESDAY",
          "THURSDAY",
          "FRIDAY",
          "SATURDAY",
          "SUNDAY"
         ],
         "xaxis": "x",
         "y": {
          "bdata": "AAA5HkBlM0IAAC8K9oA0QgAAVIebIzVCAADGCr56NUIAACyFhzg3QgAAgbG5lzdCAAAF7Rn+NEI=",
          "dtype": "f8"
         },
         "yaxis": "y"
        },
        {
         "alignmentgroup": "True",
         "hovertemplate": "카테고리=한식음식점<br>요일=%{x}<br>매출액=%{y}<extra></extra>",
         "legendgroup": "한식음식점",
         "marker": {
          "color": "#FF97FF",
          "pattern": {
           "shape": ""
          }
         },
         "name": "한식음식점",
         "offsetgroup": "한식음식점",
         "orientation": "v",
         "showlegend": true,
         "textposition": "auto",
         "type": "bar",
         "x": [
          "MONDAY",
          "TUESDAY",
          "WEDNESDAY",
          "THURSDAY",
          "FRIDAY",
          "SATURDAY",
          "SUNDAY"
         ],
         "xaxis": "x",
         "y": {
          "bdata": "AMBZnI8xfUIAIFbZYrh/QgAA7wyi2X9CAFjIPMd/gEIAgFFbXfKBQgAwxhlGVYBCAGCgnLlld0I=",
          "dtype": "f8"
         },
         "yaxis": "y"
        },
        {
         "alignmentgroup": "True",
         "hovertemplate": "카테고리=호프-간이주점<br>요일=%{x}<br>매출액=%{y}<extra></extra>",
         "legendgroup": "호프-간이주점",
         "marker": {
          "color": "#FECB52",
          "pattern": {
           "shape": ""
          }
         },
         "name": "호프-간이주점",
         "offsetgroup": "호프-간이주점",
         "orientation": "v",
         "showlegend": true,
         "textposition": "auto",
         "type": "bar",
         "x": [
          "MONDAY",
          "TUESDAY",
          "WEDNESDAY",
          "THURSDAY",
          "FRIDAY",
          "SATURDAY",
          "SUNDAY"
         ],
         "xaxis": "x",
         "y": {
          "bdata": "AMAP6leMVEIAgKycRTVYQgDA59jl/1hCAIDuCRbnWUIAwOaKhUtfQgDg5PT9cmFCAAAqOavaVkI=",
          "dtype": "f8"
         },
         "yaxis": "y"
        }
       ],
       "layout": {
        "barmode": "group",
        "legend": {
         "title": {
          "text": "카테고리"
         },
         "tracegroupgap": 0,
         "x": 1.05,
         "y": 1
        },
        "template": {
         "data": {
          "bar": [
           {
            "error_x": {
             "color": "#2a3f5f"
            },
            "error_y": {
             "color": "#2a3f5f"
            },
            "marker": {
             "line": {
              "color": "#E5ECF6",
              "width": 0.5
             },
             "pattern": {
              "fillmode": "overlay",
              "size": 10,
              "solidity": 0.2
             }
            },
            "type": "bar"
           }
          ],
          "barpolar": [
           {
            "marker": {
             "line": {
              "color": "#E5ECF6",
              "width": 0.5
             },
             "pattern": {
              "fillmode": "overlay",
              "size": 10,
              "solidity": 0.2
             }
            },
            "type": "barpolar"
           }
          ],
          "carpet": [
           {
            "aaxis": {
             "endlinecolor": "#2a3f5f",
             "gridcolor": "white",
             "linecolor": "white",
             "minorgridcolor": "white",
             "startlinecolor": "#2a3f5f"
            },
            "baxis": {
             "endlinecolor": "#2a3f5f",
             "gridcolor": "white",
             "linecolor": "white",
             "minorgridcolor": "white",
             "startlinecolor": "#2a3f5f"
            },
            "type": "carpet"
           }
          ],
          "choropleth": [
           {
            "colorbar": {
             "outlinewidth": 0,
             "ticks": ""
            },
            "type": "choropleth"
           }
          ],
          "contour": [
           {
            "colorbar": {
             "outlinewidth": 0,
             "ticks": ""
            },
            "colorscale": [
             [
              0,
              "#0d0887"
             ],
             [
              0.1111111111111111,
              "#46039f"
             ],
             [
              0.2222222222222222,
              "#7201a8"
             ],
             [
              0.3333333333333333,
              "#9c179e"
             ],
             [
              0.4444444444444444,
              "#bd3786"
             ],
             [
              0.5555555555555556,
              "#d8576b"
             ],
             [
              0.6666666666666666,
              "#ed7953"
             ],
             [
              0.7777777777777778,
              "#fb9f3a"
             ],
             [
              0.8888888888888888,
              "#fdca26"
             ],
             [
              1,
              "#f0f921"
             ]
            ],
            "type": "contour"
           }
          ],
          "contourcarpet": [
           {
            "colorbar": {
             "outlinewidth": 0,
             "ticks": ""
            },
            "type": "contourcarpet"
           }
          ],
          "heatmap": [
           {
            "colorbar": {
             "outlinewidth": 0,
             "ticks": ""
            },
            "colorscale": [
             [
              0,
              "#0d0887"
             ],
             [
              0.1111111111111111,
              "#46039f"
             ],
             [
              0.2222222222222222,
              "#7201a8"
             ],
             [
              0.3333333333333333,
              "#9c179e"
             ],
             [
              0.4444444444444444,
              "#bd3786"
             ],
             [
              0.5555555555555556,
              "#d8576b"
             ],
             [
              0.6666666666666666,
              "#ed7953"
             ],
             [
              0.7777777777777778,
              "#fb9f3a"
             ],
             [
              0.8888888888888888,
              "#fdca26"
             ],
             [
              1,
              "#f0f921"
             ]
            ],
            "type": "heatmap"
           }
          ],
          "histogram": [
           {
            "marker": {
             "pattern": {
              "fillmode": "overlay",
              "size": 10,
              "solidity": 0.2
             }
            },
            "type": "histogram"
           }
          ],
          "histogram2d": [
           {
            "colorbar": {
             "outlinewidth": 0,
             "ticks": ""
            },
            "colorscale": [
             [
              0,
              "#0d0887"
             ],
             [
              0.1111111111111111,
              "#46039f"
             ],
             [
              0.2222222222222222,
              "#7201a8"
             ],
             [
              0.3333333333333333,
              "#9c179e"
             ],
             [
              0.4444444444444444,
              "#bd3786"
             ],
             [
              0.5555555555555556,
              "#d8576b"
             ],
             [
              0.6666666666666666,
              "#ed7953"
             ],
             [
              0.7777777777777778,
              "#fb9f3a"
             ],
             [
              0.8888888888888888,
              "#fdca26"
             ],
             [
              1,
              "#f0f921"
             ]
            ],
            "type": "histogram2d"
           }
          ],
          "histogram2dcontour": [
           {
            "colorbar": {
             "outlinewidth": 0,
             "ticks": ""
            },
            "colorscale": [
             [
              0,
              "#0d0887"
             ],
             [
              0.1111111111111111,
              "#46039f"
             ],
             [
              0.2222222222222222,
              "#7201a8"
             ],
             [
              0.3333333333333333,
              "#9c179e"
             ],
             [
              0.4444444444444444,
              "#bd3786"
             ],
             [
              0.5555555555555556,
              "#d8576b"
             ],
             [
              0.6666666666666666,
              "#ed7953"
             ],
             [
              0.7777777777777778,
              "#fb9f3a"
             ],
             [
              0.8888888888888888,
              "#fdca26"
             ],
             [
              1,
              "#f0f921"
             ]
            ],
            "type": "histogram2dcontour"
           }
          ],
          "mesh3d": [
           {
            "colorbar": {
             "outlinewidth": 0,
             "ticks": ""
            },
            "type": "mesh3d"
           }
          ],
          "parcoords": [
           {
            "line": {
             "colorbar": {
              "outlinewidth": 0,
              "ticks": ""
             }
            },
            "type": "parcoords"
           }
          ],
          "pie": [
           {
            "automargin": true,
            "type": "pie"
           }
          ],
          "scatter": [
           {
            "fillpattern": {
             "fillmode": "overlay",
             "size": 10,
             "solidity": 0.2
            },
            "type": "scatter"
           }
          ],
          "scatter3d": [
           {
            "line": {
             "colorbar": {
              "outlinewidth": 0,
              "ticks": ""
             }
            },
            "marker": {
             "colorbar": {
              "outlinewidth": 0,
              "ticks": ""
             }
            },
            "type": "scatter3d"
           }
          ],
          "scattercarpet": [
           {
            "marker": {
             "colorbar": {
              "outlinewidth": 0,
              "ticks": ""
             }
            },
            "type": "scattercarpet"
           }
          ],
          "scattergeo": [
           {
            "marker": {
             "colorbar": {
              "outlinewidth": 0,
              "ticks": ""
             }
            },
            "type": "scattergeo"
           }
          ],
          "scattergl": [
           {
            "marker": {
             "colorbar": {
              "outlinewidth": 0,
              "ticks": ""
             }
            },
            "type": "scattergl"
           }
          ],
          "scattermap": [
           {
            "marker": {
             "colorbar": {
              "outlinewidth": 0,
              "ticks": ""
             }
            },
            "type": "scattermap"
           }
          ],
          "scattermapbox": [
           {
            "marker": {
             "colorbar": {
              "outlinewidth": 0,
              "ticks": ""
             }
            },
            "type": "scattermapbox"
           }
          ],
          "scatterpolar": [
           {
            "marker": {
             "colorbar": {
              "outlinewidth": 0,
              "ticks": ""
             }
            },
            "type": "scatterpolar"
           }
          ],
          "scatterpolargl": [
           {
            "marker": {
             "colorbar": {
              "outlinewidth": 0,
              "ticks": ""
             }
            },
            "type": "scatterpolargl"
           }
          ],
          "scatterternary": [
           {
            "marker": {
             "colorbar": {
              "outlinewidth": 0,
              "ticks": ""
             }
            },
            "type": "scatterternary"
           }
          ],
          "surface": [
           {
            "colorbar": {
             "outlinewidth": 0,
             "ticks": ""
            },
            "colorscale": [
             [
              0,
              "#0d0887"
             ],
             [
              0.1111111111111111,
              "#46039f"
             ],
             [
              0.2222222222222222,
              "#7201a8"
             ],
             [
              0.3333333333333333,
              "#9c179e"
             ],
             [
              0.4444444444444444,
              "#bd3786"
             ],
             [
              0.5555555555555556,
              "#d8576b"
             ],
             [
              0.6666666666666666,
              "#ed7953"
             ],
             [
              0.7777777777777778,
              "#fb9f3a"
             ],
             [
              0.8888888888888888,
              "#fdca26"
             ],
             [
              1,
              "#f0f921"
             ]
            ],
            "type": "surface"
           }
          ],
          "table": [
           {
            "cells": {
             "fill": {
              "color": "#EBF0F8"
             },
             "line": {
              "color": "white"
             }
            },
            "header": {
             "fill": {
              "color": "#C8D4E3"
             },
             "line": {
              "color": "white"
             }
            },
            "type": "table"
           }
          ]
         },
         "layout": {
          "annotationdefaults": {
           "arrowcolor": "#2a3f5f",
           "arrowhead": 0,
           "arrowwidth": 1
          },
          "autotypenumbers": "strict",
          "coloraxis": {
           "colorbar": {
            "outlinewidth": 0,
            "ticks": ""
           }
          },
          "colorscale": {
           "diverging": [
            [
             0,
             "#8e0152"
            ],
            [
             0.1,
             "#c51b7d"
            ],
            [
             0.2,
             "#de77ae"
            ],
            [
             0.3,
             "#f1b6da"
            ],
            [
             0.4,
             "#fde0ef"
            ],
            [
             0.5,
             "#f7f7f7"
            ],
            [
             0.6,
             "#e6f5d0"
            ],
            [
             0.7,
             "#b8e186"
            ],
            [
             0.8,
             "#7fbc41"
            ],
            [
             0.9,
             "#4d9221"
            ],
            [
             1,
             "#276419"
            ]
           ],
           "sequential": [
            [
             0,
             "#0d0887"
            ],
            [
             0.1111111111111111,
             "#46039f"
            ],
            [
             0.2222222222222222,
             "#7201a8"
            ],
            [
             0.3333333333333333,
             "#9c179e"
            ],
            [
             0.4444444444444444,
             "#bd3786"
            ],
            [
             0.5555555555555556,
             "#d8576b"
            ],
            [
             0.6666666666666666,
             "#ed7953"
            ],
            [
             0.7777777777777778,
             "#fb9f3a"
            ],
            [
             0.8888888888888888,
             "#fdca26"
            ],
            [
             1,
             "#f0f921"
            ]
           ],
           "sequentialminus": [
            [
             0,
             "#0d0887"
            ],
            [
             0.1111111111111111,
             "#46039f"
            ],
            [
             0.2222222222222222,
             "#7201a8"
            ],
            [
             0.3333333333333333,
             "#9c179e"
            ],
            [
             0.4444444444444444,
             "#bd3786"
            ],
            [
             0.5555555555555556,
             "#d8576b"
            ],
            [
             0.6666666666666666,
             "#ed7953"
            ],
            [
             0.7777777777777778,
             "#fb9f3a"
            ],
            [
             0.8888888888888888,
             "#fdca26"
            ],
            [
             1,
             "#f0f921"
            ]
           ]
          },
          "colorway": [
           "#636efa",
           "#EF553B",
           "#00cc96",
           "#ab63fa",
           "#FFA15A",
           "#19d3f3",
           "#FF6692",
           "#B6E880",
           "#FF97FF",
           "#FECB52"
          ],
          "font": {
           "color": "#2a3f5f"
          },
          "geo": {
           "bgcolor": "white",
           "lakecolor": "white",
           "landcolor": "#E5ECF6",
           "showlakes": true,
           "showland": true,
           "subunitcolor": "white"
          },
          "hoverlabel": {
           "align": "left"
          },
          "hovermode": "closest",
          "mapbox": {
           "style": "light"
          },
          "paper_bgcolor": "white",
          "plot_bgcolor": "#E5ECF6",
          "polar": {
           "angularaxis": {
            "gridcolor": "white",
            "linecolor": "white",
            "ticks": ""
           },
           "bgcolor": "#E5ECF6",
           "radialaxis": {
            "gridcolor": "white",
            "linecolor": "white",
            "ticks": ""
           }
          },
          "scene": {
           "xaxis": {
            "backgroundcolor": "#E5ECF6",
            "gridcolor": "white",
            "gridwidth": 2,
            "linecolor": "white",
            "showbackground": true,
            "ticks": "",
            "zerolinecolor": "white"
           },
           "yaxis": {
            "backgroundcolor": "#E5ECF6",
            "gridcolor": "white",
            "gridwidth": 2,
            "linecolor": "white",
            "showbackground": true,
            "ticks": "",
            "zerolinecolor": "white"
           },
           "zaxis": {
            "backgroundcolor": "#E5ECF6",
            "gridcolor": "white",
            "gridwidth": 2,
            "linecolor": "white",
            "showbackground": true,
            "ticks": "",
            "zerolinecolor": "white"
           }
          },
          "shapedefaults": {
           "line": {
            "color": "#2a3f5f"
           }
          },
          "ternary": {
           "aaxis": {
            "gridcolor": "white",
            "linecolor": "white",
            "ticks": ""
           },
           "baxis": {
            "gridcolor": "white",
            "linecolor": "white",
            "ticks": ""
           },
           "bgcolor": "#E5ECF6",
           "caxis": {
            "gridcolor": "white",
            "linecolor": "white",
            "ticks": ""
           }
          },
          "title": {
           "x": 0.05
          },
          "xaxis": {
           "automargin": true,
           "gridcolor": "white",
           "linecolor": "white",
           "ticks": "",
           "title": {
            "standoff": 15
           },
           "zerolinecolor": "white",
           "zerolinewidth": 2
          },
          "yaxis": {
           "automargin": true,
           "gridcolor": "white",
           "linecolor": "white",
           "ticks": "",
           "title": {
            "standoff": 15
           },
           "zerolinecolor": "white",
           "zerolinewidth": 2
          }
         }
        },
        "title": {
         "text": "외식업 카테고리별 요일별 매출 합계 (로그 스케일)"
        },
        "xaxis": {
         "anchor": "y",
         "domain": [
          0,
          1
         ],
         "title": {
          "text": "요일"
         }
        },
        "yaxis": {
         "anchor": "x",
         "domain": [
          0,
          1
         ],
         "title": {
          "text": "매출액"
         },
         "type": "log"
        }
       }
      }
     },
     "metadata": {},
     "output_type": "display_data"
    }
   ],
   "source": [
    "import plotly.express as px\n",
    "\n",
    "fig = px.bar(\n",
    "    sales_day_df,\n",
    "    x='week',\n",
    "    y='total_sales',\n",
    "    color='category_name',\n",
    "    labels={\n",
    "        'week': '요일',\n",
    "        'total_sales': '매출액',\n",
    "        'category_name': '카테고리'\n",
    "    },\n",
    "    title='외식업 카테고리별 요일별 매출 합계 (로그 스케일)',\n",
    "    barmode='group'\n",
    ")\n",
    "\n",
    "fig.update_yaxes(type='log')  # 로그 스케일 적용\n",
    "fig.update_layout(legend=dict(title='카테고리', x=1.05, y=1))\n",
    "fig.show()\n"
   ]
  },
  {
   "cell_type": "code",
   "execution_count": null,
   "id": "12b1ff0b",
   "metadata": {},
   "outputs": [
    {
     "data": {
      "application/vnd.plotly.v1+json": {
       "config": {
        "plotlyServerURL": "https://plot.ly"
       },
       "data": [
        {
         "hovertemplate": "카테고리=분식전문점<br>요일=%{x}<br>매출액=%{y}<extra></extra>",
         "legendgroup": "분식전문점",
         "line": {
          "color": "#636efa",
          "dash": "solid"
         },
         "marker": {
          "symbol": "circle"
         },
         "mode": "lines+markers",
         "name": "분식전문점",
         "orientation": "v",
         "showlegend": true,
         "type": "scatter",
         "x": [
          "MONDAY",
          "TUESDAY",
          "WEDNESDAY",
          "THURSDAY",
          "FRIDAY",
          "SATURDAY",
          "SUNDAY"
         ],
         "xaxis": "x",
         "y": {
          "bdata": "AAAKq3fHQkIAAINWHjFEQgCAZfI0MERCAAA3kRiLREIAAGVMXsRFQgCACvjHwUNCAABROdZXPUI=",
          "dtype": "f8"
         },
         "yaxis": "y"
        },
        {
         "hovertemplate": "카테고리=양식음식점<br>요일=%{x}<br>매출액=%{y}<extra></extra>",
         "legendgroup": "양식음식점",
         "line": {
          "color": "#EF553B",
          "dash": "solid"
         },
         "marker": {
          "symbol": "circle"
         },
         "mode": "lines+markers",
         "name": "양식음식점",
         "orientation": "v",
         "showlegend": true,
         "type": "scatter",
         "x": [
          "MONDAY",
          "TUESDAY",
          "WEDNESDAY",
          "THURSDAY",
          "FRIDAY",
          "SATURDAY",
          "SUNDAY"
         ],
         "xaxis": "x",
         "y": {
          "bdata": "AABeVt4NQkIAgLPwTm5FQgAAsofEOUdCAICR82t5R0IAAF573OpKQgCAlPKC605CAICOQM2zRkI=",
          "dtype": "f8"
         },
         "yaxis": "y"
        },
        {
         "hovertemplate": "카테고리=일식음식점<br>요일=%{x}<br>매출액=%{y}<extra></extra>",
         "legendgroup": "일식음식점",
         "line": {
          "color": "#00cc96",
          "dash": "solid"
         },
         "marker": {
          "symbol": "circle"
         },
         "mode": "lines+markers",
         "name": "일식음식점",
         "orientation": "v",
         "showlegend": true,
         "type": "scatter",
         "x": [
          "MONDAY",
          "TUESDAY",
          "WEDNESDAY",
          "THURSDAY",
          "FRIDAY",
          "SATURDAY",
          "SUNDAY"
         ],
         "xaxis": "x",
         "y": {
          "bdata": "AABOFbe5QEIAAOK1wPtCQgAAAerRCkNCAAAq61EOREIAgPTA8mZFQgAAZNQsUUFCAAAMk5KZNUI=",
          "dtype": "f8"
         },
         "yaxis": "y"
        },
        {
         "hovertemplate": "카테고리=제과점<br>요일=%{x}<br>매출액=%{y}<extra></extra>",
         "legendgroup": "제과점",
         "line": {
          "color": "#ab63fa",
          "dash": "solid"
         },
         "marker": {
          "symbol": "circle"
         },
         "mode": "lines+markers",
         "name": "제과점",
         "orientation": "v",
         "showlegend": true,
         "type": "scatter",
         "x": [
          "MONDAY",
          "TUESDAY",
          "WEDNESDAY",
          "THURSDAY",
          "FRIDAY",
          "SATURDAY",
          "SUNDAY"
         ],
         "xaxis": "x",
         "y": {
          "bdata": "AADs/0M+OEIAAHaXy7I6QgAAX2R+fDpCAADI9dHaOUIAALlJIXw8QgAAEMVbEDpCAADbHNoGNUI=",
          "dtype": "f8"
         },
         "yaxis": "y"
        },
        {
         "hovertemplate": "카테고리=중식음식점<br>요일=%{x}<br>매출액=%{y}<extra></extra>",
         "legendgroup": "중식음식점",
         "line": {
          "color": "#FFA15A",
          "dash": "solid"
         },
         "marker": {
          "symbol": "circle"
         },
         "mode": "lines+markers",
         "name": "중식음식점",
         "orientation": "v",
         "showlegend": true,
         "type": "scatter",
         "x": [
          "MONDAY",
          "TUESDAY",
          "WEDNESDAY",
          "THURSDAY",
          "FRIDAY",
          "SATURDAY",
          "SUNDAY"
         ],
         "xaxis": "x",
         "y": {
          "bdata": "AAByrSDBPkIAAJmWZTRBQgCA83e2YUFCAIAynlgXQkIAAAtkCWdDQgAATmXAg0BCAABt81Y3O0I=",
          "dtype": "f8"
         },
         "yaxis": "y"
        },
        {
         "hovertemplate": "카테고리=치킨전문점<br>요일=%{x}<br>매출액=%{y}<extra></extra>",
         "legendgroup": "치킨전문점",
         "line": {
          "color": "#19d3f3",
          "dash": "solid"
         },
         "marker": {
          "symbol": "circle"
         },
         "mode": "lines+markers",
         "name": "치킨전문점",
         "orientation": "v",
         "showlegend": true,
         "type": "scatter",
         "x": [
          "MONDAY",
          "TUESDAY",
          "WEDNESDAY",
          "THURSDAY",
          "FRIDAY",
          "SATURDAY",
          "SUNDAY"
         ],
         "xaxis": "x",
         "y": {
          "bdata": "AADw5JOOJ0IAALS0OucqQgAALnH4sCtCAADc4Nn+LEIAAOSd3lIwQgAAUpu/GS1CAADABrN9JEI=",
          "dtype": "f8"
         },
         "yaxis": "y"
        },
        {
         "hovertemplate": "카테고리=커피-음료<br>요일=%{x}<br>매출액=%{y}<extra></extra>",
         "legendgroup": "커피-음료",
         "line": {
          "color": "#FF6692",
          "dash": "solid"
         },
         "marker": {
          "symbol": "circle"
         },
         "mode": "lines+markers",
         "name": "커피-음료",
         "orientation": "v",
         "showlegend": true,
         "type": "scatter",
         "x": [
          "MONDAY",
          "TUESDAY",
          "WEDNESDAY",
          "THURSDAY",
          "FRIDAY",
          "SATURDAY",
          "SUNDAY"
         ],
         "xaxis": "x",
         "y": {
          "bdata": "AIAxjzKIVkIAAOhtiWpYQgCA/QPGfVhCAMCIb3nWWEIAABMGHShaQgAAQAlHqVZCAAAPU4tmUkI=",
          "dtype": "f8"
         },
         "yaxis": "y"
        },
        {
         "hovertemplate": "카테고리=패스트푸드점<br>요일=%{x}<br>매출액=%{y}<extra></extra>",
         "legendgroup": "패스트푸드점",
         "line": {
          "color": "#B6E880",
          "dash": "solid"
         },
         "marker": {
          "symbol": "circle"
         },
         "mode": "lines+markers",
         "name": "패스트푸드점",
         "orientation": "v",
         "showlegend": true,
         "type": "scatter",
         "x": [
          "MONDAY",
          "TUESDAY",
          "WEDNESDAY",
          "THURSDAY",
          "FRIDAY",
          "SATURDAY",
          "SUNDAY"
         ],
         "xaxis": "x",
         "y": {
          "bdata": "AAA5HkBlM0IAAC8K9oA0QgAAVIebIzVCAADGCr56NUIAACyFhzg3QgAAgbG5lzdCAAAF7Rn+NEI=",
          "dtype": "f8"
         },
         "yaxis": "y"
        },
        {
         "hovertemplate": "카테고리=한식음식점<br>요일=%{x}<br>매출액=%{y}<extra></extra>",
         "legendgroup": "한식음식점",
         "line": {
          "color": "#FF97FF",
          "dash": "solid"
         },
         "marker": {
          "symbol": "circle"
         },
         "mode": "lines+markers",
         "name": "한식음식점",
         "orientation": "v",
         "showlegend": true,
         "type": "scatter",
         "x": [
          "MONDAY",
          "TUESDAY",
          "WEDNESDAY",
          "THURSDAY",
          "FRIDAY",
          "SATURDAY",
          "SUNDAY"
         ],
         "xaxis": "x",
         "y": {
          "bdata": "AMBZnI8xfUIAIFbZYrh/QgAA7wyi2X9CAFjIPMd/gEIAgFFbXfKBQgAwxhlGVYBCAGCgnLlld0I=",
          "dtype": "f8"
         },
         "yaxis": "y"
        },
        {
         "hovertemplate": "카테고리=호프-간이주점<br>요일=%{x}<br>매출액=%{y}<extra></extra>",
         "legendgroup": "호프-간이주점",
         "line": {
          "color": "#FECB52",
          "dash": "solid"
         },
         "marker": {
          "symbol": "circle"
         },
         "mode": "lines+markers",
         "name": "호프-간이주점",
         "orientation": "v",
         "showlegend": true,
         "type": "scatter",
         "x": [
          "MONDAY",
          "TUESDAY",
          "WEDNESDAY",
          "THURSDAY",
          "FRIDAY",
          "SATURDAY",
          "SUNDAY"
         ],
         "xaxis": "x",
         "y": {
          "bdata": "AMAP6leMVEIAgKycRTVYQgDA59jl/1hCAIDuCRbnWUIAwOaKhUtfQgDg5PT9cmFCAAAqOavaVkI=",
          "dtype": "f8"
         },
         "yaxis": "y"
        }
       ],
       "layout": {
        "legend": {
         "title": {
          "text": "카테고리"
         },
         "tracegroupgap": 0,
         "x": 1.05,
         "y": 1
        },
        "paper_bgcolor": "white",
        "plot_bgcolor": "white",
        "template": {
         "data": {
          "bar": [
           {
            "error_x": {
             "color": "#2a3f5f"
            },
            "error_y": {
             "color": "#2a3f5f"
            },
            "marker": {
             "line": {
              "color": "#E5ECF6",
              "width": 0.5
             },
             "pattern": {
              "fillmode": "overlay",
              "size": 10,
              "solidity": 0.2
             }
            },
            "type": "bar"
           }
          ],
          "barpolar": [
           {
            "marker": {
             "line": {
              "color": "#E5ECF6",
              "width": 0.5
             },
             "pattern": {
              "fillmode": "overlay",
              "size": 10,
              "solidity": 0.2
             }
            },
            "type": "barpolar"
           }
          ],
          "carpet": [
           {
            "aaxis": {
             "endlinecolor": "#2a3f5f",
             "gridcolor": "white",
             "linecolor": "white",
             "minorgridcolor": "white",
             "startlinecolor": "#2a3f5f"
            },
            "baxis": {
             "endlinecolor": "#2a3f5f",
             "gridcolor": "white",
             "linecolor": "white",
             "minorgridcolor": "white",
             "startlinecolor": "#2a3f5f"
            },
            "type": "carpet"
           }
          ],
          "choropleth": [
           {
            "colorbar": {
             "outlinewidth": 0,
             "ticks": ""
            },
            "type": "choropleth"
           }
          ],
          "contour": [
           {
            "colorbar": {
             "outlinewidth": 0,
             "ticks": ""
            },
            "colorscale": [
             [
              0,
              "#0d0887"
             ],
             [
              0.1111111111111111,
              "#46039f"
             ],
             [
              0.2222222222222222,
              "#7201a8"
             ],
             [
              0.3333333333333333,
              "#9c179e"
             ],
             [
              0.4444444444444444,
              "#bd3786"
             ],
             [
              0.5555555555555556,
              "#d8576b"
             ],
             [
              0.6666666666666666,
              "#ed7953"
             ],
             [
              0.7777777777777778,
              "#fb9f3a"
             ],
             [
              0.8888888888888888,
              "#fdca26"
             ],
             [
              1,
              "#f0f921"
             ]
            ],
            "type": "contour"
           }
          ],
          "contourcarpet": [
           {
            "colorbar": {
             "outlinewidth": 0,
             "ticks": ""
            },
            "type": "contourcarpet"
           }
          ],
          "heatmap": [
           {
            "colorbar": {
             "outlinewidth": 0,
             "ticks": ""
            },
            "colorscale": [
             [
              0,
              "#0d0887"
             ],
             [
              0.1111111111111111,
              "#46039f"
             ],
             [
              0.2222222222222222,
              "#7201a8"
             ],
             [
              0.3333333333333333,
              "#9c179e"
             ],
             [
              0.4444444444444444,
              "#bd3786"
             ],
             [
              0.5555555555555556,
              "#d8576b"
             ],
             [
              0.6666666666666666,
              "#ed7953"
             ],
             [
              0.7777777777777778,
              "#fb9f3a"
             ],
             [
              0.8888888888888888,
              "#fdca26"
             ],
             [
              1,
              "#f0f921"
             ]
            ],
            "type": "heatmap"
           }
          ],
          "histogram": [
           {
            "marker": {
             "pattern": {
              "fillmode": "overlay",
              "size": 10,
              "solidity": 0.2
             }
            },
            "type": "histogram"
           }
          ],
          "histogram2d": [
           {
            "colorbar": {
             "outlinewidth": 0,
             "ticks": ""
            },
            "colorscale": [
             [
              0,
              "#0d0887"
             ],
             [
              0.1111111111111111,
              "#46039f"
             ],
             [
              0.2222222222222222,
              "#7201a8"
             ],
             [
              0.3333333333333333,
              "#9c179e"
             ],
             [
              0.4444444444444444,
              "#bd3786"
             ],
             [
              0.5555555555555556,
              "#d8576b"
             ],
             [
              0.6666666666666666,
              "#ed7953"
             ],
             [
              0.7777777777777778,
              "#fb9f3a"
             ],
             [
              0.8888888888888888,
              "#fdca26"
             ],
             [
              1,
              "#f0f921"
             ]
            ],
            "type": "histogram2d"
           }
          ],
          "histogram2dcontour": [
           {
            "colorbar": {
             "outlinewidth": 0,
             "ticks": ""
            },
            "colorscale": [
             [
              0,
              "#0d0887"
             ],
             [
              0.1111111111111111,
              "#46039f"
             ],
             [
              0.2222222222222222,
              "#7201a8"
             ],
             [
              0.3333333333333333,
              "#9c179e"
             ],
             [
              0.4444444444444444,
              "#bd3786"
             ],
             [
              0.5555555555555556,
              "#d8576b"
             ],
             [
              0.6666666666666666,
              "#ed7953"
             ],
             [
              0.7777777777777778,
              "#fb9f3a"
             ],
             [
              0.8888888888888888,
              "#fdca26"
             ],
             [
              1,
              "#f0f921"
             ]
            ],
            "type": "histogram2dcontour"
           }
          ],
          "mesh3d": [
           {
            "colorbar": {
             "outlinewidth": 0,
             "ticks": ""
            },
            "type": "mesh3d"
           }
          ],
          "parcoords": [
           {
            "line": {
             "colorbar": {
              "outlinewidth": 0,
              "ticks": ""
             }
            },
            "type": "parcoords"
           }
          ],
          "pie": [
           {
            "automargin": true,
            "type": "pie"
           }
          ],
          "scatter": [
           {
            "fillpattern": {
             "fillmode": "overlay",
             "size": 10,
             "solidity": 0.2
            },
            "type": "scatter"
           }
          ],
          "scatter3d": [
           {
            "line": {
             "colorbar": {
              "outlinewidth": 0,
              "ticks": ""
             }
            },
            "marker": {
             "colorbar": {
              "outlinewidth": 0,
              "ticks": ""
             }
            },
            "type": "scatter3d"
           }
          ],
          "scattercarpet": [
           {
            "marker": {
             "colorbar": {
              "outlinewidth": 0,
              "ticks": ""
             }
            },
            "type": "scattercarpet"
           }
          ],
          "scattergeo": [
           {
            "marker": {
             "colorbar": {
              "outlinewidth": 0,
              "ticks": ""
             }
            },
            "type": "scattergeo"
           }
          ],
          "scattergl": [
           {
            "marker": {
             "colorbar": {
              "outlinewidth": 0,
              "ticks": ""
             }
            },
            "type": "scattergl"
           }
          ],
          "scattermap": [
           {
            "marker": {
             "colorbar": {
              "outlinewidth": 0,
              "ticks": ""
             }
            },
            "type": "scattermap"
           }
          ],
          "scattermapbox": [
           {
            "marker": {
             "colorbar": {
              "outlinewidth": 0,
              "ticks": ""
             }
            },
            "type": "scattermapbox"
           }
          ],
          "scatterpolar": [
           {
            "marker": {
             "colorbar": {
              "outlinewidth": 0,
              "ticks": ""
             }
            },
            "type": "scatterpolar"
           }
          ],
          "scatterpolargl": [
           {
            "marker": {
             "colorbar": {
              "outlinewidth": 0,
              "ticks": ""
             }
            },
            "type": "scatterpolargl"
           }
          ],
          "scatterternary": [
           {
            "marker": {
             "colorbar": {
              "outlinewidth": 0,
              "ticks": ""
             }
            },
            "type": "scatterternary"
           }
          ],
          "surface": [
           {
            "colorbar": {
             "outlinewidth": 0,
             "ticks": ""
            },
            "colorscale": [
             [
              0,
              "#0d0887"
             ],
             [
              0.1111111111111111,
              "#46039f"
             ],
             [
              0.2222222222222222,
              "#7201a8"
             ],
             [
              0.3333333333333333,
              "#9c179e"
             ],
             [
              0.4444444444444444,
              "#bd3786"
             ],
             [
              0.5555555555555556,
              "#d8576b"
             ],
             [
              0.6666666666666666,
              "#ed7953"
             ],
             [
              0.7777777777777778,
              "#fb9f3a"
             ],
             [
              0.8888888888888888,
              "#fdca26"
             ],
             [
              1,
              "#f0f921"
             ]
            ],
            "type": "surface"
           }
          ],
          "table": [
           {
            "cells": {
             "fill": {
              "color": "#EBF0F8"
             },
             "line": {
              "color": "white"
             }
            },
            "header": {
             "fill": {
              "color": "#C8D4E3"
             },
             "line": {
              "color": "white"
             }
            },
            "type": "table"
           }
          ]
         },
         "layout": {
          "annotationdefaults": {
           "arrowcolor": "#2a3f5f",
           "arrowhead": 0,
           "arrowwidth": 1
          },
          "autotypenumbers": "strict",
          "coloraxis": {
           "colorbar": {
            "outlinewidth": 0,
            "ticks": ""
           }
          },
          "colorscale": {
           "diverging": [
            [
             0,
             "#8e0152"
            ],
            [
             0.1,
             "#c51b7d"
            ],
            [
             0.2,
             "#de77ae"
            ],
            [
             0.3,
             "#f1b6da"
            ],
            [
             0.4,
             "#fde0ef"
            ],
            [
             0.5,
             "#f7f7f7"
            ],
            [
             0.6,
             "#e6f5d0"
            ],
            [
             0.7,
             "#b8e186"
            ],
            [
             0.8,
             "#7fbc41"
            ],
            [
             0.9,
             "#4d9221"
            ],
            [
             1,
             "#276419"
            ]
           ],
           "sequential": [
            [
             0,
             "#0d0887"
            ],
            [
             0.1111111111111111,
             "#46039f"
            ],
            [
             0.2222222222222222,
             "#7201a8"
            ],
            [
             0.3333333333333333,
             "#9c179e"
            ],
            [
             0.4444444444444444,
             "#bd3786"
            ],
            [
             0.5555555555555556,
             "#d8576b"
            ],
            [
             0.6666666666666666,
             "#ed7953"
            ],
            [
             0.7777777777777778,
             "#fb9f3a"
            ],
            [
             0.8888888888888888,
             "#fdca26"
            ],
            [
             1,
             "#f0f921"
            ]
           ],
           "sequentialminus": [
            [
             0,
             "#0d0887"
            ],
            [
             0.1111111111111111,
             "#46039f"
            ],
            [
             0.2222222222222222,
             "#7201a8"
            ],
            [
             0.3333333333333333,
             "#9c179e"
            ],
            [
             0.4444444444444444,
             "#bd3786"
            ],
            [
             0.5555555555555556,
             "#d8576b"
            ],
            [
             0.6666666666666666,
             "#ed7953"
            ],
            [
             0.7777777777777778,
             "#fb9f3a"
            ],
            [
             0.8888888888888888,
             "#fdca26"
            ],
            [
             1,
             "#f0f921"
            ]
           ]
          },
          "colorway": [
           "#636efa",
           "#EF553B",
           "#00cc96",
           "#ab63fa",
           "#FFA15A",
           "#19d3f3",
           "#FF6692",
           "#B6E880",
           "#FF97FF",
           "#FECB52"
          ],
          "font": {
           "color": "#2a3f5f"
          },
          "geo": {
           "bgcolor": "white",
           "lakecolor": "white",
           "landcolor": "#E5ECF6",
           "showlakes": true,
           "showland": true,
           "subunitcolor": "white"
          },
          "hoverlabel": {
           "align": "left"
          },
          "hovermode": "closest",
          "mapbox": {
           "style": "light"
          },
          "paper_bgcolor": "white",
          "plot_bgcolor": "#E5ECF6",
          "polar": {
           "angularaxis": {
            "gridcolor": "white",
            "linecolor": "white",
            "ticks": ""
           },
           "bgcolor": "#E5ECF6",
           "radialaxis": {
            "gridcolor": "white",
            "linecolor": "white",
            "ticks": ""
           }
          },
          "scene": {
           "xaxis": {
            "backgroundcolor": "#E5ECF6",
            "gridcolor": "white",
            "gridwidth": 2,
            "linecolor": "white",
            "showbackground": true,
            "ticks": "",
            "zerolinecolor": "white"
           },
           "yaxis": {
            "backgroundcolor": "#E5ECF6",
            "gridcolor": "white",
            "gridwidth": 2,
            "linecolor": "white",
            "showbackground": true,
            "ticks": "",
            "zerolinecolor": "white"
           },
           "zaxis": {
            "backgroundcolor": "#E5ECF6",
            "gridcolor": "white",
            "gridwidth": 2,
            "linecolor": "white",
            "showbackground": true,
            "ticks": "",
            "zerolinecolor": "white"
           }
          },
          "shapedefaults": {
           "line": {
            "color": "#2a3f5f"
           }
          },
          "ternary": {
           "aaxis": {
            "gridcolor": "white",
            "linecolor": "white",
            "ticks": ""
           },
           "baxis": {
            "gridcolor": "white",
            "linecolor": "white",
            "ticks": ""
           },
           "bgcolor": "#E5ECF6",
           "caxis": {
            "gridcolor": "white",
            "linecolor": "white",
            "ticks": ""
           }
          },
          "title": {
           "x": 0.05
          },
          "xaxis": {
           "automargin": true,
           "gridcolor": "white",
           "linecolor": "white",
           "ticks": "",
           "title": {
            "standoff": 15
           },
           "zerolinecolor": "white",
           "zerolinewidth": 2
          },
          "yaxis": {
           "automargin": true,
           "gridcolor": "white",
           "linecolor": "white",
           "ticks": "",
           "title": {
            "standoff": 15
           },
           "zerolinecolor": "white",
           "zerolinewidth": 2
          }
         }
        },
        "title": {
         "text": "외식업 카테고리별 요일별 매출 (로그 스케일)"
        },
        "xaxis": {
         "anchor": "y",
         "domain": [
          0,
          1
         ],
         "gridcolor": "lightgray",
         "showgrid": true,
         "title": {
          "text": "요일"
         },
         "type": "category"
        },
        "yaxis": {
         "anchor": "x",
         "domain": [
          0,
          1
         ],
         "gridcolor": "lightgray",
         "showgrid": true,
         "title": {
          "text": "매출액"
         },
         "type": "log"
        }
       }
      }
     },
     "metadata": {},
     "output_type": "display_data"
    }
   ],
   "source": [
    "import pandas as pd\n",
    "import plotly.express as px\n",
    "\n",
    "# category_name을 문자열로 변환\n",
    "sales_day_df['category_name'] = sales_day_df['category_name'].astype(str)\n",
    "\n",
    "# Plotly로 꺾은선 그래프 생성\n",
    "fig = px.line(\n",
    "    sales_day_df,\n",
    "    x='week',\n",
    "    y='total_sales',\n",
    "    color='category_name',\n",
    "    markers=True,\n",
    "    labels={\n",
    "        'week': '요일',\n",
    "        'total_sales': '매출액',\n",
    "        'category_name': '카테고리'\n",
    "    },\n",
    "    title='외식업 카테고리별 요일별 매출 (로그 스케일)'\n",
    ")\n",
    "\n",
    "fig.update_xaxes(\n",
    "    type='category',\n",
    "    showgrid=True,\n",
    "    gridcolor='lightgray'\n",
    ")\n",
    "\n",
    "# y축 로그 스케일 + 그리드 표시\n",
    "fig.update_yaxes(\n",
    "    type='log',\n",
    "    showgrid=True,\n",
    "    gridcolor='lightgray'\n",
    ")\n",
    "\n",
    "# 라인 모드 적용\n",
    "fig.update_traces(mode='lines+markers')\n",
    "\n",
    "fig.update_layout(\n",
    "    legend=dict(title='카테고리', x=1.05, y=1),\n",
    "    plot_bgcolor='white',\n",
    "    paper_bgcolor='white'\n",
    ")\n",
    "\n",
    "# 범례 위치\n",
    "fig.update_layout(legend=dict(title='카테고리', x=1.05, y=1))\n",
    "\n",
    "fig.show()\n",
    "\n"
   ]
  },
  {
   "cell_type": "code",
   "execution_count": null,
   "id": "e93b45c8",
   "metadata": {},
   "outputs": [
    {
     "data": {
      "application/vnd.plotly.v1+json": {
       "config": {
        "plotlyServerURL": "https://plot.ly"
       },
       "data": [
        {
         "hovertemplate": "카테고리=분식전문점<br>성별=%{x}<br>매출액=%{y}<extra></extra>",
         "legendgroup": "분식전문점",
         "line": {
          "color": "#636efa",
          "dash": "solid"
         },
         "marker": {
          "symbol": "circle"
         },
         "mode": "lines+markers",
         "name": "분식전문점",
         "orientation": "v",
         "showlegend": true,
         "type": "scatter",
         "x": [
          "MALE",
          "FEMALE"
         ],
         "xaxis": "x",
         "y": {
          "bdata": "AMCAJRfFXUIAwAmsevFeQg==",
          "dtype": "f8"
         },
         "yaxis": "y"
        },
        {
         "hovertemplate": "카테고리=양식음식점<br>성별=%{x}<br>매출액=%{y}<extra></extra>",
         "legendgroup": "양식음식점",
         "line": {
          "color": "#EF553B",
          "dash": "solid"
         },
         "marker": {
          "symbol": "circle"
         },
         "mode": "lines+markers",
         "name": "양식음식점",
         "orientation": "v",
         "showlegend": true,
         "type": "scatter",
         "x": [
          "MALE",
          "FEMALE"
         ],
         "xaxis": "x",
         "y": {
          "bdata": "AKABj6fZYEIAoJ9UbEZgQg==",
          "dtype": "f8"
         },
         "yaxis": "y"
        },
        {
         "hovertemplate": "카테고리=일식음식점<br>성별=%{x}<br>매출액=%{y}<extra></extra>",
         "legendgroup": "일식음식점",
         "line": {
          "color": "#00cc96",
          "dash": "solid"
         },
         "marker": {
          "symbol": "circle"
         },
         "mode": "lines+markers",
         "name": "일식음식점",
         "orientation": "v",
         "showlegend": true,
         "type": "scatter",
         "x": [
          "MALE",
          "FEMALE"
         ],
         "xaxis": "x",
         "y": {
          "bdata": "AABpK1yWWkIAwLKmQvRTQg==",
          "dtype": "f8"
         },
         "yaxis": "y"
        },
        {
         "hovertemplate": "카테고리=제과점<br>성별=%{x}<br>매출액=%{y}<extra></extra>",
         "legendgroup": "제과점",
         "line": {
          "color": "#ab63fa",
          "dash": "solid"
         },
         "marker": {
          "symbol": "circle"
         },
         "mode": "lines+markers",
         "name": "제과점",
         "orientation": "v",
         "showlegend": true,
         "type": "scatter",
         "x": [
          "MALE",
          "FEMALE"
         ],
         "xaxis": "x",
         "y": {
          "bdata": "AIDrMEMFT0IAAFK6m0pYQg==",
          "dtype": "f8"
         },
         "yaxis": "y"
        },
        {
         "hovertemplate": "카테고리=중식음식점<br>성별=%{x}<br>매출액=%{y}<extra></extra>",
         "legendgroup": "중식음식점",
         "line": {
          "color": "#FFA15A",
          "dash": "solid"
         },
         "marker": {
          "symbol": "circle"
         },
         "mode": "lines+markers",
         "name": "중식음식점",
         "orientation": "v",
         "showlegend": true,
         "type": "scatter",
         "x": [
          "MALE",
          "FEMALE"
         ],
         "xaxis": "x",
         "y": {
          "bdata": "AEAqO1jtWkIAQBCh0lxSQg==",
          "dtype": "f8"
         },
         "yaxis": "y"
        },
        {
         "hovertemplate": "카테고리=치킨전문점<br>성별=%{x}<br>매출액=%{y}<extra></extra>",
         "legendgroup": "치킨전문점",
         "line": {
          "color": "#19d3f3",
          "dash": "solid"
         },
         "marker": {
          "symbol": "circle"
         },
         "mode": "lines+markers",
         "name": "치킨전문점",
         "orientation": "v",
         "showlegend": true,
         "type": "scatter",
         "x": [
          "MALE",
          "FEMALE"
         ],
         "xaxis": "x",
         "y": {
          "bdata": "AABjQiY/SkIAABmsyUI9Qg==",
          "dtype": "f8"
         },
         "yaxis": "y"
        },
        {
         "hovertemplate": "카테고리=커피-음료<br>성별=%{x}<br>매출액=%{y}<extra></extra>",
         "legendgroup": "커피-음료",
         "line": {
          "color": "#FF6692",
          "dash": "solid"
         },
         "marker": {
          "symbol": "circle"
         },
         "mode": "lines+markers",
         "name": "커피-음료",
         "orientation": "v",
         "showlegend": true,
         "type": "scatter",
         "x": [
          "MALE",
          "FEMALE"
         ],
         "xaxis": "x",
         "y": {
          "bdata": "AKDqnTzyb0IAgI39Kp1zQg==",
          "dtype": "f8"
         },
         "yaxis": "y"
        },
        {
         "hovertemplate": "카테고리=패스트푸드점<br>성별=%{x}<br>매출액=%{y}<extra></extra>",
         "legendgroup": "패스트푸드점",
         "line": {
          "color": "#B6E880",
          "dash": "solid"
         },
         "marker": {
          "symbol": "circle"
         },
         "mode": "lines+markers",
         "name": "패스트푸드점",
         "orientation": "v",
         "showlegend": true,
         "type": "scatter",
         "x": [
          "MALE",
          "FEMALE"
         ],
         "xaxis": "x",
         "y": {
          "bdata": "AIBD1f+qUUIAgOvwvYRPQg==",
          "dtype": "f8"
         },
         "yaxis": "y"
        },
        {
         "hovertemplate": "카테고리=한식음식점<br>성별=%{x}<br>매출액=%{y}<extra></extra>",
         "legendgroup": "한식음식점",
         "line": {
          "color": "#FF97FF",
          "dash": "solid"
         },
         "marker": {
          "symbol": "circle"
         },
         "mode": "lines+markers",
         "name": "한식음식점",
         "orientation": "v",
         "showlegend": true,
         "type": "scatter",
         "x": [
          "MALE",
          "FEMALE"
         ],
         "xaxis": "x",
         "y": {
          "bdata": "ABBYaZRxmkIAnHFojV+QQg==",
          "dtype": "f8"
         },
         "yaxis": "y"
        },
        {
         "hovertemplate": "카테고리=호프-간이주점<br>성별=%{x}<br>매출액=%{y}<extra></extra>",
         "legendgroup": "호프-간이주점",
         "line": {
          "color": "#FECB52",
          "dash": "solid"
         },
         "marker": {
          "symbol": "circle"
         },
         "mode": "lines+markers",
         "name": "호프-간이주점",
         "orientation": "v",
         "showlegend": true,
         "type": "scatter",
         "x": [
          "MALE",
          "FEMALE"
         ],
         "xaxis": "x",
         "y": {
          "bdata": "AJBj1ts/ekIAAMqfwp5sQg==",
          "dtype": "f8"
         },
         "yaxis": "y"
        }
       ],
       "layout": {
        "legend": {
         "title": {
          "text": "카테고리"
         },
         "tracegroupgap": 0,
         "x": 1.05,
         "y": 1
        },
        "paper_bgcolor": "white",
        "plot_bgcolor": "white",
        "template": {
         "data": {
          "bar": [
           {
            "error_x": {
             "color": "#2a3f5f"
            },
            "error_y": {
             "color": "#2a3f5f"
            },
            "marker": {
             "line": {
              "color": "#E5ECF6",
              "width": 0.5
             },
             "pattern": {
              "fillmode": "overlay",
              "size": 10,
              "solidity": 0.2
             }
            },
            "type": "bar"
           }
          ],
          "barpolar": [
           {
            "marker": {
             "line": {
              "color": "#E5ECF6",
              "width": 0.5
             },
             "pattern": {
              "fillmode": "overlay",
              "size": 10,
              "solidity": 0.2
             }
            },
            "type": "barpolar"
           }
          ],
          "carpet": [
           {
            "aaxis": {
             "endlinecolor": "#2a3f5f",
             "gridcolor": "white",
             "linecolor": "white",
             "minorgridcolor": "white",
             "startlinecolor": "#2a3f5f"
            },
            "baxis": {
             "endlinecolor": "#2a3f5f",
             "gridcolor": "white",
             "linecolor": "white",
             "minorgridcolor": "white",
             "startlinecolor": "#2a3f5f"
            },
            "type": "carpet"
           }
          ],
          "choropleth": [
           {
            "colorbar": {
             "outlinewidth": 0,
             "ticks": ""
            },
            "type": "choropleth"
           }
          ],
          "contour": [
           {
            "colorbar": {
             "outlinewidth": 0,
             "ticks": ""
            },
            "colorscale": [
             [
              0,
              "#0d0887"
             ],
             [
              0.1111111111111111,
              "#46039f"
             ],
             [
              0.2222222222222222,
              "#7201a8"
             ],
             [
              0.3333333333333333,
              "#9c179e"
             ],
             [
              0.4444444444444444,
              "#bd3786"
             ],
             [
              0.5555555555555556,
              "#d8576b"
             ],
             [
              0.6666666666666666,
              "#ed7953"
             ],
             [
              0.7777777777777778,
              "#fb9f3a"
             ],
             [
              0.8888888888888888,
              "#fdca26"
             ],
             [
              1,
              "#f0f921"
             ]
            ],
            "type": "contour"
           }
          ],
          "contourcarpet": [
           {
            "colorbar": {
             "outlinewidth": 0,
             "ticks": ""
            },
            "type": "contourcarpet"
           }
          ],
          "heatmap": [
           {
            "colorbar": {
             "outlinewidth": 0,
             "ticks": ""
            },
            "colorscale": [
             [
              0,
              "#0d0887"
             ],
             [
              0.1111111111111111,
              "#46039f"
             ],
             [
              0.2222222222222222,
              "#7201a8"
             ],
             [
              0.3333333333333333,
              "#9c179e"
             ],
             [
              0.4444444444444444,
              "#bd3786"
             ],
             [
              0.5555555555555556,
              "#d8576b"
             ],
             [
              0.6666666666666666,
              "#ed7953"
             ],
             [
              0.7777777777777778,
              "#fb9f3a"
             ],
             [
              0.8888888888888888,
              "#fdca26"
             ],
             [
              1,
              "#f0f921"
             ]
            ],
            "type": "heatmap"
           }
          ],
          "histogram": [
           {
            "marker": {
             "pattern": {
              "fillmode": "overlay",
              "size": 10,
              "solidity": 0.2
             }
            },
            "type": "histogram"
           }
          ],
          "histogram2d": [
           {
            "colorbar": {
             "outlinewidth": 0,
             "ticks": ""
            },
            "colorscale": [
             [
              0,
              "#0d0887"
             ],
             [
              0.1111111111111111,
              "#46039f"
             ],
             [
              0.2222222222222222,
              "#7201a8"
             ],
             [
              0.3333333333333333,
              "#9c179e"
             ],
             [
              0.4444444444444444,
              "#bd3786"
             ],
             [
              0.5555555555555556,
              "#d8576b"
             ],
             [
              0.6666666666666666,
              "#ed7953"
             ],
             [
              0.7777777777777778,
              "#fb9f3a"
             ],
             [
              0.8888888888888888,
              "#fdca26"
             ],
             [
              1,
              "#f0f921"
             ]
            ],
            "type": "histogram2d"
           }
          ],
          "histogram2dcontour": [
           {
            "colorbar": {
             "outlinewidth": 0,
             "ticks": ""
            },
            "colorscale": [
             [
              0,
              "#0d0887"
             ],
             [
              0.1111111111111111,
              "#46039f"
             ],
             [
              0.2222222222222222,
              "#7201a8"
             ],
             [
              0.3333333333333333,
              "#9c179e"
             ],
             [
              0.4444444444444444,
              "#bd3786"
             ],
             [
              0.5555555555555556,
              "#d8576b"
             ],
             [
              0.6666666666666666,
              "#ed7953"
             ],
             [
              0.7777777777777778,
              "#fb9f3a"
             ],
             [
              0.8888888888888888,
              "#fdca26"
             ],
             [
              1,
              "#f0f921"
             ]
            ],
            "type": "histogram2dcontour"
           }
          ],
          "mesh3d": [
           {
            "colorbar": {
             "outlinewidth": 0,
             "ticks": ""
            },
            "type": "mesh3d"
           }
          ],
          "parcoords": [
           {
            "line": {
             "colorbar": {
              "outlinewidth": 0,
              "ticks": ""
             }
            },
            "type": "parcoords"
           }
          ],
          "pie": [
           {
            "automargin": true,
            "type": "pie"
           }
          ],
          "scatter": [
           {
            "fillpattern": {
             "fillmode": "overlay",
             "size": 10,
             "solidity": 0.2
            },
            "type": "scatter"
           }
          ],
          "scatter3d": [
           {
            "line": {
             "colorbar": {
              "outlinewidth": 0,
              "ticks": ""
             }
            },
            "marker": {
             "colorbar": {
              "outlinewidth": 0,
              "ticks": ""
             }
            },
            "type": "scatter3d"
           }
          ],
          "scattercarpet": [
           {
            "marker": {
             "colorbar": {
              "outlinewidth": 0,
              "ticks": ""
             }
            },
            "type": "scattercarpet"
           }
          ],
          "scattergeo": [
           {
            "marker": {
             "colorbar": {
              "outlinewidth": 0,
              "ticks": ""
             }
            },
            "type": "scattergeo"
           }
          ],
          "scattergl": [
           {
            "marker": {
             "colorbar": {
              "outlinewidth": 0,
              "ticks": ""
             }
            },
            "type": "scattergl"
           }
          ],
          "scattermap": [
           {
            "marker": {
             "colorbar": {
              "outlinewidth": 0,
              "ticks": ""
             }
            },
            "type": "scattermap"
           }
          ],
          "scattermapbox": [
           {
            "marker": {
             "colorbar": {
              "outlinewidth": 0,
              "ticks": ""
             }
            },
            "type": "scattermapbox"
           }
          ],
          "scatterpolar": [
           {
            "marker": {
             "colorbar": {
              "outlinewidth": 0,
              "ticks": ""
             }
            },
            "type": "scatterpolar"
           }
          ],
          "scatterpolargl": [
           {
            "marker": {
             "colorbar": {
              "outlinewidth": 0,
              "ticks": ""
             }
            },
            "type": "scatterpolargl"
           }
          ],
          "scatterternary": [
           {
            "marker": {
             "colorbar": {
              "outlinewidth": 0,
              "ticks": ""
             }
            },
            "type": "scatterternary"
           }
          ],
          "surface": [
           {
            "colorbar": {
             "outlinewidth": 0,
             "ticks": ""
            },
            "colorscale": [
             [
              0,
              "#0d0887"
             ],
             [
              0.1111111111111111,
              "#46039f"
             ],
             [
              0.2222222222222222,
              "#7201a8"
             ],
             [
              0.3333333333333333,
              "#9c179e"
             ],
             [
              0.4444444444444444,
              "#bd3786"
             ],
             [
              0.5555555555555556,
              "#d8576b"
             ],
             [
              0.6666666666666666,
              "#ed7953"
             ],
             [
              0.7777777777777778,
              "#fb9f3a"
             ],
             [
              0.8888888888888888,
              "#fdca26"
             ],
             [
              1,
              "#f0f921"
             ]
            ],
            "type": "surface"
           }
          ],
          "table": [
           {
            "cells": {
             "fill": {
              "color": "#EBF0F8"
             },
             "line": {
              "color": "white"
             }
            },
            "header": {
             "fill": {
              "color": "#C8D4E3"
             },
             "line": {
              "color": "white"
             }
            },
            "type": "table"
           }
          ]
         },
         "layout": {
          "annotationdefaults": {
           "arrowcolor": "#2a3f5f",
           "arrowhead": 0,
           "arrowwidth": 1
          },
          "autotypenumbers": "strict",
          "coloraxis": {
           "colorbar": {
            "outlinewidth": 0,
            "ticks": ""
           }
          },
          "colorscale": {
           "diverging": [
            [
             0,
             "#8e0152"
            ],
            [
             0.1,
             "#c51b7d"
            ],
            [
             0.2,
             "#de77ae"
            ],
            [
             0.3,
             "#f1b6da"
            ],
            [
             0.4,
             "#fde0ef"
            ],
            [
             0.5,
             "#f7f7f7"
            ],
            [
             0.6,
             "#e6f5d0"
            ],
            [
             0.7,
             "#b8e186"
            ],
            [
             0.8,
             "#7fbc41"
            ],
            [
             0.9,
             "#4d9221"
            ],
            [
             1,
             "#276419"
            ]
           ],
           "sequential": [
            [
             0,
             "#0d0887"
            ],
            [
             0.1111111111111111,
             "#46039f"
            ],
            [
             0.2222222222222222,
             "#7201a8"
            ],
            [
             0.3333333333333333,
             "#9c179e"
            ],
            [
             0.4444444444444444,
             "#bd3786"
            ],
            [
             0.5555555555555556,
             "#d8576b"
            ],
            [
             0.6666666666666666,
             "#ed7953"
            ],
            [
             0.7777777777777778,
             "#fb9f3a"
            ],
            [
             0.8888888888888888,
             "#fdca26"
            ],
            [
             1,
             "#f0f921"
            ]
           ],
           "sequentialminus": [
            [
             0,
             "#0d0887"
            ],
            [
             0.1111111111111111,
             "#46039f"
            ],
            [
             0.2222222222222222,
             "#7201a8"
            ],
            [
             0.3333333333333333,
             "#9c179e"
            ],
            [
             0.4444444444444444,
             "#bd3786"
            ],
            [
             0.5555555555555556,
             "#d8576b"
            ],
            [
             0.6666666666666666,
             "#ed7953"
            ],
            [
             0.7777777777777778,
             "#fb9f3a"
            ],
            [
             0.8888888888888888,
             "#fdca26"
            ],
            [
             1,
             "#f0f921"
            ]
           ]
          },
          "colorway": [
           "#636efa",
           "#EF553B",
           "#00cc96",
           "#ab63fa",
           "#FFA15A",
           "#19d3f3",
           "#FF6692",
           "#B6E880",
           "#FF97FF",
           "#FECB52"
          ],
          "font": {
           "color": "#2a3f5f"
          },
          "geo": {
           "bgcolor": "white",
           "lakecolor": "white",
           "landcolor": "#E5ECF6",
           "showlakes": true,
           "showland": true,
           "subunitcolor": "white"
          },
          "hoverlabel": {
           "align": "left"
          },
          "hovermode": "closest",
          "mapbox": {
           "style": "light"
          },
          "paper_bgcolor": "white",
          "plot_bgcolor": "#E5ECF6",
          "polar": {
           "angularaxis": {
            "gridcolor": "white",
            "linecolor": "white",
            "ticks": ""
           },
           "bgcolor": "#E5ECF6",
           "radialaxis": {
            "gridcolor": "white",
            "linecolor": "white",
            "ticks": ""
           }
          },
          "scene": {
           "xaxis": {
            "backgroundcolor": "#E5ECF6",
            "gridcolor": "white",
            "gridwidth": 2,
            "linecolor": "white",
            "showbackground": true,
            "ticks": "",
            "zerolinecolor": "white"
           },
           "yaxis": {
            "backgroundcolor": "#E5ECF6",
            "gridcolor": "white",
            "gridwidth": 2,
            "linecolor": "white",
            "showbackground": true,
            "ticks": "",
            "zerolinecolor": "white"
           },
           "zaxis": {
            "backgroundcolor": "#E5ECF6",
            "gridcolor": "white",
            "gridwidth": 2,
            "linecolor": "white",
            "showbackground": true,
            "ticks": "",
            "zerolinecolor": "white"
           }
          },
          "shapedefaults": {
           "line": {
            "color": "#2a3f5f"
           }
          },
          "ternary": {
           "aaxis": {
            "gridcolor": "white",
            "linecolor": "white",
            "ticks": ""
           },
           "baxis": {
            "gridcolor": "white",
            "linecolor": "white",
            "ticks": ""
           },
           "bgcolor": "#E5ECF6",
           "caxis": {
            "gridcolor": "white",
            "linecolor": "white",
            "ticks": ""
           }
          },
          "title": {
           "x": 0.05
          },
          "xaxis": {
           "automargin": true,
           "gridcolor": "white",
           "linecolor": "white",
           "ticks": "",
           "title": {
            "standoff": 15
           },
           "zerolinecolor": "white",
           "zerolinewidth": 2
          },
          "yaxis": {
           "automargin": true,
           "gridcolor": "white",
           "linecolor": "white",
           "ticks": "",
           "title": {
            "standoff": 15
           },
           "zerolinecolor": "white",
           "zerolinewidth": 2
          }
         }
        },
        "title": {
         "text": "요식업 카테고리별 성별 매출 합계 (로그스케일 적용)"
        },
        "xaxis": {
         "anchor": "y",
         "domain": [
          0,
          1
         ],
         "gridcolor": "lightgray",
         "showgrid": true,
         "title": {
          "text": "성별"
         },
         "type": "category"
        },
        "yaxis": {
         "anchor": "x",
         "domain": [
          0,
          1
         ],
         "gridcolor": "lightgray",
         "showgrid": true,
         "title": {
          "text": "매출액"
         },
         "type": "log"
        }
       }
      }
     },
     "metadata": {},
     "output_type": "display_data"
    }
   ],
   "source": [
    "import pandas as pd\n",
    "import plotly.express as px\n",
    "\n",
    "sales_sex_df['category_name'] = sales_sex_df['category_name'].astype(str)\n",
    "\n",
    "fig = px.line(\n",
    "    sales_sex_df,\n",
    "    x='sex',\n",
    "    y='total_sales',\n",
    "    color='category_name',\n",
    "    markers=True,     \n",
    "    labels={\n",
    "        'sex': '성별',\n",
    "        'total_sales': '매출액',\n",
    "        'category_name': '카테고리'\n",
    "    },\n",
    "    title='요식업 카테고리별 성별 매출 합계 (로그스케일 적용)',\n",
    ")\n",
    "\n",
    "\n",
    "fig.update_xaxes(\n",
    "    type='category',\n",
    "    showgrid=True,\n",
    "    gridcolor='lightgray'\n",
    ")\n",
    "\n",
    "fig.update_yaxes(\n",
    "    type='log',\n",
    "    showgrid=True,\n",
    "    gridcolor='lightgray'\n",
    ")\n",
    "\n",
    "fig.update_traces(mode='lines+markers')\n",
    "\n",
    "fig.update_layout(\n",
    "    legend=dict(title='카테고리', x=1.05, y=1),\n",
    "    plot_bgcolor='white',\n",
    "    paper_bgcolor='white'\n",
    ")\n",
    "\n",
    "\n",
    "fig.update_layout(legend=dict(title='카테고리', x=1.05, y=1))\n",
    "\n",
    "fig.show()\n"
   ]
  },
  {
   "cell_type": "code",
   "execution_count": null,
   "id": "d0bf1e73",
   "metadata": {},
   "outputs": [
    {
     "data": {
      "application/vnd.plotly.v1+json": {
       "config": {
        "plotlyServerURL": "https://plot.ly"
       },
       "data": [
        {
         "hovertemplate": "category_name=분식전문점<br>time=%{x}<br>total_sales=%{y}<extra></extra>",
         "legendgroup": "분식전문점",
         "line": {
          "color": "#636efa",
          "dash": "solid"
         },
         "marker": {
          "symbol": "circle"
         },
         "mode": "lines+markers",
         "name": "분식전문점",
         "orientation": "v",
         "showlegend": true,
         "type": "scatter",
         "x": [
          "00-06",
          "06-11",
          "11-14",
          "14-17",
          "17-21",
          null
         ],
         "xaxis": "x",
         "y": {
          "bdata": "AAB4GRkoFkIAAOMHDpg3QgBAA92J5VZCAICMUzgPR0IAwErCiDtVQgAA8VkaBzRC",
          "dtype": "f8"
         },
         "yaxis": "y"
        },
        {
         "hovertemplate": "category_name=양식음식점<br>time=%{x}<br>total_sales=%{y}<extra></extra>",
         "legendgroup": "양식음식점",
         "line": {
          "color": "#EF553B",
          "dash": "solid"
         },
         "marker": {
          "symbol": "circle"
         },
         "mode": "lines+markers",
         "name": "양식음식점",
         "orientation": "v",
         "showlegend": true,
         "type": "scatter",
         "x": [
          "00-06",
          "06-11",
          "11-14",
          "14-17",
          "17-21",
          null
         ],
         "xaxis": "x",
         "y": {
          "bdata": "AACJ5hOFM0IAAJBdC/8EQgBAwmlxTVdCAIBCd/6tRkIAQKPwmKpdQgAAq5v8CEtC",
          "dtype": "f8"
         },
         "yaxis": "y"
        },
        {
         "hovertemplate": "category_name=일식음식점<br>time=%{x}<br>total_sales=%{y}<extra></extra>",
         "legendgroup": "일식음식점",
         "line": {
          "color": "#00cc96",
          "dash": "solid"
         },
         "marker": {
          "symbol": "circle"
         },
         "mode": "lines+markers",
         "name": "일식음식점",
         "orientation": "v",
         "showlegend": true,
         "type": "scatter",
         "x": [
          "00-06",
          "06-11",
          "11-14",
          "14-17",
          "17-21",
          null
         ],
         "xaxis": "x",
         "y": {
          "bdata": "AAAYCeTBH0IAAKAeFF/lQQDArw69sFNCAAC+t9pqNEIAANx0CCBXQgCApUrTLkhC",
          "dtype": "f8"
         },
         "yaxis": "y"
        },
        {
         "hovertemplate": "category_name=제과점<br>time=%{x}<br>total_sales=%{y}<extra></extra>",
         "legendgroup": "제과점",
         "line": {
          "color": "#ab63fa",
          "dash": "solid"
         },
         "marker": {
          "symbol": "circle"
         },
         "mode": "lines+markers",
         "name": "제과점",
         "orientation": "v",
         "showlegend": true,
         "type": "scatter",
         "x": [
          "00-06",
          "06-11",
          "11-14",
          "14-17",
          "17-21",
          null
         ],
         "xaxis": "x",
         "y": {
          "bdata": "AAAAA/zvz0EAAIgW6I08QgCAONuFd0dCAICbGJxqRUIAgGq3xX9JQgAARHA/lCJC",
          "dtype": "f8"
         },
         "yaxis": "y"
        },
        {
         "hovertemplate": "category_name=중식음식점<br>time=%{x}<br>total_sales=%{y}<extra></extra>",
         "legendgroup": "중식음식점",
         "line": {
          "color": "#FFA15A",
          "dash": "solid"
         },
         "marker": {
          "symbol": "circle"
         },
         "mode": "lines+markers",
         "name": "중식음식점",
         "orientation": "v",
         "showlegend": true,
         "type": "scatter",
         "x": [
          "00-06",
          "06-11",
          "11-14",
          "14-17",
          "17-21",
          null
         ],
         "xaxis": "x",
         "y": {
          "bdata": "AACIDle0FEIAAFC2Xe3/QQCAej2SJVVCAABY2h3lOkIAgMaj7WhWQgAArI7r3TpC",
          "dtype": "f8"
         },
         "yaxis": "y"
        },
        {
         "hovertemplate": "category_name=치킨전문점<br>time=%{x}<br>total_sales=%{y}<extra></extra>",
         "legendgroup": "치킨전문점",
         "line": {
          "color": "#19d3f3",
          "dash": "solid"
         },
         "marker": {
          "symbol": "circle"
         },
         "mode": "lines+markers",
         "name": "치킨전문점",
         "orientation": "v",
         "showlegend": true,
         "type": "scatter",
         "x": [
          "00-06",
          "06-11",
          "11-14",
          "14-17",
          "17-21",
          null
         ],
         "xaxis": "x",
         "y": {
          "bdata": "AADAfFXNHUIAAABw83fbQQAAqJqQvA5CAAAcRDojFUIAgIaLGlBDQgCANb7Oh0NC",
          "dtype": "f8"
         },
         "yaxis": "y"
        },
        {
         "hovertemplate": "category_name=커피-음료<br>time=%{x}<br>total_sales=%{y}<extra></extra>",
         "legendgroup": "커피-음료",
         "line": {
          "color": "#FF6692",
          "dash": "solid"
         },
         "marker": {
          "symbol": "circle"
         },
         "mode": "lines+markers",
         "name": "커피-음료",
         "orientation": "v",
         "showlegend": true,
         "type": "scatter",
         "x": [
          "00-06",
          "06-11",
          "11-14",
          "14-17",
          "17-21",
          null
         ],
         "xaxis": "x",
         "y": {
          "bdata": "AAC4YbNBEkIAgC79l7dXQgBAtyZhB21CACBWJYLiY0IAoNFL+6tgQgAA57/p3T1C",
          "dtype": "f8"
         },
         "yaxis": "y"
        },
        {
         "hovertemplate": "category_name=패스트푸드점<br>time=%{x}<br>total_sales=%{y}<extra></extra>",
         "legendgroup": "패스트푸드점",
         "line": {
          "color": "#B6E880",
          "dash": "solid"
         },
         "marker": {
          "symbol": "circle"
         },
         "mode": "lines+markers",
         "name": "패스트푸드점",
         "orientation": "v",
         "showlegend": true,
         "type": "scatter",
         "x": [
          "00-06",
          "06-11",
          "11-14",
          "14-17",
          "17-21",
          null
         ],
         "xaxis": "x",
         "y": {
          "bdata": "AABQB299EUIAAGQOMgYkQgAAOr0Z/kZCAAAdvPYIO0IAgFNtTktJQgAA7AdeqShC",
          "dtype": "f8"
         },
         "yaxis": "y"
        },
        {
         "hovertemplate": "category_name=한식음식점<br>time=%{x}<br>total_sales=%{y}<extra></extra>",
         "legendgroup": "한식음식점",
         "line": {
          "color": "#FF97FF",
          "dash": "solid"
         },
         "marker": {
          "symbol": "circle"
         },
         "mode": "lines+markers",
         "name": "한식음식점",
         "orientation": "v",
         "showlegend": true,
         "type": "scatter",
         "x": [
          "00-06",
          "06-11",
          "11-14",
          "14-17",
          "17-21",
          null
         ],
         "xaxis": "x",
         "y": {
          "bdata": "AKC0xRYtYEIAAB2MuUVQQgDwsaB8No5CAHALCWEfdEIAoHxmblOWQgD4XewK24FC",
          "dtype": "f8"
         },
         "yaxis": "y"
        },
        {
         "hovertemplate": "category_name=호프-간이주점<br>time=%{x}<br>total_sales=%{y}<extra></extra>",
         "legendgroup": "호프-간이주점",
         "line": {
          "color": "#FECB52",
          "dash": "solid"
         },
         "marker": {
          "symbol": "circle"
         },
         "mode": "lines+markers",
         "name": "호프-간이주점",
         "orientation": "v",
         "showlegend": true,
         "type": "scatter",
         "x": [
          "00-06",
          "06-11",
          "11-14",
          "14-17",
          "17-21",
          null
         ],
         "xaxis": "x",
         "y": {
          "bdata": "ACAz42oZZ0IAAEppU0UkQgCA5gH9pkRCAACxUbcaOkIA4Lp2g8BkQgAQQqiEZ3NC",
          "dtype": "f8"
         },
         "yaxis": "y"
        }
       ],
       "layout": {
        "legend": {
         "title": {
          "text": "카테고리"
         },
         "tracegroupgap": 0,
         "x": 1.05,
         "y": 1
        },
        "paper_bgcolor": "white",
        "plot_bgcolor": "white",
        "template": {
         "data": {
          "bar": [
           {
            "error_x": {
             "color": "#2a3f5f"
            },
            "error_y": {
             "color": "#2a3f5f"
            },
            "marker": {
             "line": {
              "color": "#E5ECF6",
              "width": 0.5
             },
             "pattern": {
              "fillmode": "overlay",
              "size": 10,
              "solidity": 0.2
             }
            },
            "type": "bar"
           }
          ],
          "barpolar": [
           {
            "marker": {
             "line": {
              "color": "#E5ECF6",
              "width": 0.5
             },
             "pattern": {
              "fillmode": "overlay",
              "size": 10,
              "solidity": 0.2
             }
            },
            "type": "barpolar"
           }
          ],
          "carpet": [
           {
            "aaxis": {
             "endlinecolor": "#2a3f5f",
             "gridcolor": "white",
             "linecolor": "white",
             "minorgridcolor": "white",
             "startlinecolor": "#2a3f5f"
            },
            "baxis": {
             "endlinecolor": "#2a3f5f",
             "gridcolor": "white",
             "linecolor": "white",
             "minorgridcolor": "white",
             "startlinecolor": "#2a3f5f"
            },
            "type": "carpet"
           }
          ],
          "choropleth": [
           {
            "colorbar": {
             "outlinewidth": 0,
             "ticks": ""
            },
            "type": "choropleth"
           }
          ],
          "contour": [
           {
            "colorbar": {
             "outlinewidth": 0,
             "ticks": ""
            },
            "colorscale": [
             [
              0,
              "#0d0887"
             ],
             [
              0.1111111111111111,
              "#46039f"
             ],
             [
              0.2222222222222222,
              "#7201a8"
             ],
             [
              0.3333333333333333,
              "#9c179e"
             ],
             [
              0.4444444444444444,
              "#bd3786"
             ],
             [
              0.5555555555555556,
              "#d8576b"
             ],
             [
              0.6666666666666666,
              "#ed7953"
             ],
             [
              0.7777777777777778,
              "#fb9f3a"
             ],
             [
              0.8888888888888888,
              "#fdca26"
             ],
             [
              1,
              "#f0f921"
             ]
            ],
            "type": "contour"
           }
          ],
          "contourcarpet": [
           {
            "colorbar": {
             "outlinewidth": 0,
             "ticks": ""
            },
            "type": "contourcarpet"
           }
          ],
          "heatmap": [
           {
            "colorbar": {
             "outlinewidth": 0,
             "ticks": ""
            },
            "colorscale": [
             [
              0,
              "#0d0887"
             ],
             [
              0.1111111111111111,
              "#46039f"
             ],
             [
              0.2222222222222222,
              "#7201a8"
             ],
             [
              0.3333333333333333,
              "#9c179e"
             ],
             [
              0.4444444444444444,
              "#bd3786"
             ],
             [
              0.5555555555555556,
              "#d8576b"
             ],
             [
              0.6666666666666666,
              "#ed7953"
             ],
             [
              0.7777777777777778,
              "#fb9f3a"
             ],
             [
              0.8888888888888888,
              "#fdca26"
             ],
             [
              1,
              "#f0f921"
             ]
            ],
            "type": "heatmap"
           }
          ],
          "histogram": [
           {
            "marker": {
             "pattern": {
              "fillmode": "overlay",
              "size": 10,
              "solidity": 0.2
             }
            },
            "type": "histogram"
           }
          ],
          "histogram2d": [
           {
            "colorbar": {
             "outlinewidth": 0,
             "ticks": ""
            },
            "colorscale": [
             [
              0,
              "#0d0887"
             ],
             [
              0.1111111111111111,
              "#46039f"
             ],
             [
              0.2222222222222222,
              "#7201a8"
             ],
             [
              0.3333333333333333,
              "#9c179e"
             ],
             [
              0.4444444444444444,
              "#bd3786"
             ],
             [
              0.5555555555555556,
              "#d8576b"
             ],
             [
              0.6666666666666666,
              "#ed7953"
             ],
             [
              0.7777777777777778,
              "#fb9f3a"
             ],
             [
              0.8888888888888888,
              "#fdca26"
             ],
             [
              1,
              "#f0f921"
             ]
            ],
            "type": "histogram2d"
           }
          ],
          "histogram2dcontour": [
           {
            "colorbar": {
             "outlinewidth": 0,
             "ticks": ""
            },
            "colorscale": [
             [
              0,
              "#0d0887"
             ],
             [
              0.1111111111111111,
              "#46039f"
             ],
             [
              0.2222222222222222,
              "#7201a8"
             ],
             [
              0.3333333333333333,
              "#9c179e"
             ],
             [
              0.4444444444444444,
              "#bd3786"
             ],
             [
              0.5555555555555556,
              "#d8576b"
             ],
             [
              0.6666666666666666,
              "#ed7953"
             ],
             [
              0.7777777777777778,
              "#fb9f3a"
             ],
             [
              0.8888888888888888,
              "#fdca26"
             ],
             [
              1,
              "#f0f921"
             ]
            ],
            "type": "histogram2dcontour"
           }
          ],
          "mesh3d": [
           {
            "colorbar": {
             "outlinewidth": 0,
             "ticks": ""
            },
            "type": "mesh3d"
           }
          ],
          "parcoords": [
           {
            "line": {
             "colorbar": {
              "outlinewidth": 0,
              "ticks": ""
             }
            },
            "type": "parcoords"
           }
          ],
          "pie": [
           {
            "automargin": true,
            "type": "pie"
           }
          ],
          "scatter": [
           {
            "fillpattern": {
             "fillmode": "overlay",
             "size": 10,
             "solidity": 0.2
            },
            "type": "scatter"
           }
          ],
          "scatter3d": [
           {
            "line": {
             "colorbar": {
              "outlinewidth": 0,
              "ticks": ""
             }
            },
            "marker": {
             "colorbar": {
              "outlinewidth": 0,
              "ticks": ""
             }
            },
            "type": "scatter3d"
           }
          ],
          "scattercarpet": [
           {
            "marker": {
             "colorbar": {
              "outlinewidth": 0,
              "ticks": ""
             }
            },
            "type": "scattercarpet"
           }
          ],
          "scattergeo": [
           {
            "marker": {
             "colorbar": {
              "outlinewidth": 0,
              "ticks": ""
             }
            },
            "type": "scattergeo"
           }
          ],
          "scattergl": [
           {
            "marker": {
             "colorbar": {
              "outlinewidth": 0,
              "ticks": ""
             }
            },
            "type": "scattergl"
           }
          ],
          "scattermap": [
           {
            "marker": {
             "colorbar": {
              "outlinewidth": 0,
              "ticks": ""
             }
            },
            "type": "scattermap"
           }
          ],
          "scattermapbox": [
           {
            "marker": {
             "colorbar": {
              "outlinewidth": 0,
              "ticks": ""
             }
            },
            "type": "scattermapbox"
           }
          ],
          "scatterpolar": [
           {
            "marker": {
             "colorbar": {
              "outlinewidth": 0,
              "ticks": ""
             }
            },
            "type": "scatterpolar"
           }
          ],
          "scatterpolargl": [
           {
            "marker": {
             "colorbar": {
              "outlinewidth": 0,
              "ticks": ""
             }
            },
            "type": "scatterpolargl"
           }
          ],
          "scatterternary": [
           {
            "marker": {
             "colorbar": {
              "outlinewidth": 0,
              "ticks": ""
             }
            },
            "type": "scatterternary"
           }
          ],
          "surface": [
           {
            "colorbar": {
             "outlinewidth": 0,
             "ticks": ""
            },
            "colorscale": [
             [
              0,
              "#0d0887"
             ],
             [
              0.1111111111111111,
              "#46039f"
             ],
             [
              0.2222222222222222,
              "#7201a8"
             ],
             [
              0.3333333333333333,
              "#9c179e"
             ],
             [
              0.4444444444444444,
              "#bd3786"
             ],
             [
              0.5555555555555556,
              "#d8576b"
             ],
             [
              0.6666666666666666,
              "#ed7953"
             ],
             [
              0.7777777777777778,
              "#fb9f3a"
             ],
             [
              0.8888888888888888,
              "#fdca26"
             ],
             [
              1,
              "#f0f921"
             ]
            ],
            "type": "surface"
           }
          ],
          "table": [
           {
            "cells": {
             "fill": {
              "color": "#EBF0F8"
             },
             "line": {
              "color": "white"
             }
            },
            "header": {
             "fill": {
              "color": "#C8D4E3"
             },
             "line": {
              "color": "white"
             }
            },
            "type": "table"
           }
          ]
         },
         "layout": {
          "annotationdefaults": {
           "arrowcolor": "#2a3f5f",
           "arrowhead": 0,
           "arrowwidth": 1
          },
          "autotypenumbers": "strict",
          "coloraxis": {
           "colorbar": {
            "outlinewidth": 0,
            "ticks": ""
           }
          },
          "colorscale": {
           "diverging": [
            [
             0,
             "#8e0152"
            ],
            [
             0.1,
             "#c51b7d"
            ],
            [
             0.2,
             "#de77ae"
            ],
            [
             0.3,
             "#f1b6da"
            ],
            [
             0.4,
             "#fde0ef"
            ],
            [
             0.5,
             "#f7f7f7"
            ],
            [
             0.6,
             "#e6f5d0"
            ],
            [
             0.7,
             "#b8e186"
            ],
            [
             0.8,
             "#7fbc41"
            ],
            [
             0.9,
             "#4d9221"
            ],
            [
             1,
             "#276419"
            ]
           ],
           "sequential": [
            [
             0,
             "#0d0887"
            ],
            [
             0.1111111111111111,
             "#46039f"
            ],
            [
             0.2222222222222222,
             "#7201a8"
            ],
            [
             0.3333333333333333,
             "#9c179e"
            ],
            [
             0.4444444444444444,
             "#bd3786"
            ],
            [
             0.5555555555555556,
             "#d8576b"
            ],
            [
             0.6666666666666666,
             "#ed7953"
            ],
            [
             0.7777777777777778,
             "#fb9f3a"
            ],
            [
             0.8888888888888888,
             "#fdca26"
            ],
            [
             1,
             "#f0f921"
            ]
           ],
           "sequentialminus": [
            [
             0,
             "#0d0887"
            ],
            [
             0.1111111111111111,
             "#46039f"
            ],
            [
             0.2222222222222222,
             "#7201a8"
            ],
            [
             0.3333333333333333,
             "#9c179e"
            ],
            [
             0.4444444444444444,
             "#bd3786"
            ],
            [
             0.5555555555555556,
             "#d8576b"
            ],
            [
             0.6666666666666666,
             "#ed7953"
            ],
            [
             0.7777777777777778,
             "#fb9f3a"
            ],
            [
             0.8888888888888888,
             "#fdca26"
            ],
            [
             1,
             "#f0f921"
            ]
           ]
          },
          "colorway": [
           "#636efa",
           "#EF553B",
           "#00cc96",
           "#ab63fa",
           "#FFA15A",
           "#19d3f3",
           "#FF6692",
           "#B6E880",
           "#FF97FF",
           "#FECB52"
          ],
          "font": {
           "color": "#2a3f5f"
          },
          "geo": {
           "bgcolor": "white",
           "lakecolor": "white",
           "landcolor": "#E5ECF6",
           "showlakes": true,
           "showland": true,
           "subunitcolor": "white"
          },
          "hoverlabel": {
           "align": "left"
          },
          "hovermode": "closest",
          "mapbox": {
           "style": "light"
          },
          "paper_bgcolor": "white",
          "plot_bgcolor": "#E5ECF6",
          "polar": {
           "angularaxis": {
            "gridcolor": "white",
            "linecolor": "white",
            "ticks": ""
           },
           "bgcolor": "#E5ECF6",
           "radialaxis": {
            "gridcolor": "white",
            "linecolor": "white",
            "ticks": ""
           }
          },
          "scene": {
           "xaxis": {
            "backgroundcolor": "#E5ECF6",
            "gridcolor": "white",
            "gridwidth": 2,
            "linecolor": "white",
            "showbackground": true,
            "ticks": "",
            "zerolinecolor": "white"
           },
           "yaxis": {
            "backgroundcolor": "#E5ECF6",
            "gridcolor": "white",
            "gridwidth": 2,
            "linecolor": "white",
            "showbackground": true,
            "ticks": "",
            "zerolinecolor": "white"
           },
           "zaxis": {
            "backgroundcolor": "#E5ECF6",
            "gridcolor": "white",
            "gridwidth": 2,
            "linecolor": "white",
            "showbackground": true,
            "ticks": "",
            "zerolinecolor": "white"
           }
          },
          "shapedefaults": {
           "line": {
            "color": "#2a3f5f"
           }
          },
          "ternary": {
           "aaxis": {
            "gridcolor": "white",
            "linecolor": "white",
            "ticks": ""
           },
           "baxis": {
            "gridcolor": "white",
            "linecolor": "white",
            "ticks": ""
           },
           "bgcolor": "#E5ECF6",
           "caxis": {
            "gridcolor": "white",
            "linecolor": "white",
            "ticks": ""
           }
          },
          "title": {
           "x": 0.05
          },
          "xaxis": {
           "automargin": true,
           "gridcolor": "white",
           "linecolor": "white",
           "ticks": "",
           "title": {
            "standoff": 15
           },
           "zerolinecolor": "white",
           "zerolinewidth": 2
          },
          "yaxis": {
           "automargin": true,
           "gridcolor": "white",
           "linecolor": "white",
           "ticks": "",
           "title": {
            "standoff": 15
           },
           "zerolinecolor": "white",
           "zerolinewidth": 2
          }
         }
        },
        "title": {
         "text": "요식업 카테고리별 시간별 매출 합계"
        },
        "xaxis": {
         "anchor": "y",
         "domain": [
          0,
          1
         ],
         "gridcolor": "lightgray",
         "showgrid": true,
         "title": {
          "text": "time"
         },
         "type": "category"
        },
        "yaxis": {
         "anchor": "x",
         "domain": [
          0,
          1
         ],
         "gridcolor": "lightgray",
         "showgrid": true,
         "title": {
          "text": "total_sales"
         },
         "type": "log"
        }
       }
      }
     },
     "metadata": {},
     "output_type": "display_data"
    }
   ],
   "source": [
    "import plotly.express as px\n",
    "\n",
    "fig = px.line(\n",
    "    sales_time_df,\n",
    "    x='time',\n",
    "    y='total_sales',\n",
    "    color='category_name',\n",
    "    title='요식업 카테고리별 시간별 매출 합계',\n",
    "    markers=True\n",
    ")\n",
    "fig.update_xaxes(\n",
    "    type='category',\n",
    "    showgrid=True,\n",
    "    gridcolor='lightgray'\n",
    ")\n",
    "\n",
    "fig.update_yaxes(\n",
    "    type='log',\n",
    "    showgrid=True,\n",
    "    gridcolor='lightgray'\n",
    ")\n",
    "\n",
    "fig.update_traces(mode='lines+markers')\n",
    "\n",
    "fig.update_layout(\n",
    "    legend=dict(title='카테고리', x=1.05, y=1),\n",
    "    plot_bgcolor='white',\n",
    "    paper_bgcolor='white'\n",
    ")\n",
    "\n",
    "# 범례 위치\n",
    "fig.update_layout(legend=dict(title='카테고리', x=1.05, y=1))\n",
    "\n",
    "fig.show()\n",
    "\n",
    "\n"
   ]
  },
  {
   "cell_type": "code",
   "execution_count": 28,
   "id": "d289b465",
   "metadata": {},
   "outputs": [
    {
     "data": {
      "image/png": "[encoded data removed]",
      "text/plain": [
       "<Figure size 1000x600 with 1 Axes>"
      ]
     },
     "metadata": {},
     "output_type": "display_data"
    }
   ],
   "source": [
    "import pandas as pd\n",
    "import matplotlib.pyplot as plt\n",
    "import seaborn as sns\n",
    "import koreanize_matplotlib\n",
    "\n",
    "# 1. 성별 매출 시각화\n",
    "plt.figure(figsize=(10, 6))\n",
    "sns.barplot(data=df, x='commercial_area_name', y='sales_by_gender', hue='gender')\n",
    "plt.title('상위 상권별 성별 매출')\n",
    "plt.xticks(rotation=45, ha='right')\n",
    "plt.ylabel('매출액')\n",
    "plt.xlabel('상권명')\n",
    "plt.tight_layout()\n",
    "plt.show()\n"
   ]
  },
  {
   "cell_type": "markdown",
   "id": "02557105",
   "metadata": {},
   "source": [
    "## 카테고리별 매출 탑인 상권"
   ]
  },
  {
   "cell_type": "markdown",
   "id": "ae7a266a",
   "metadata": {},
   "source": [
    "### DB에서 데이터 가져오기"
   ]
  },
  {
   "cell_type": "code",
   "execution_count": null,
   "id": "440ec26a",
   "metadata": {},
   "outputs": [
    {
     "name": "stderr",
     "output_type": "stream",
     "text": [
      "/tmp/ipykernel_13254/325509549.py:42: UserWarning: pandas only supports SQLAlchemy connectable (engine/connection) or database string URI or sqlite3 DBAPI2 connection. Other DBAPI2 objects are not tested. Please consider using SQLAlchemy.\n",
      "  df = pd.read_sql(query, remote)\n"
     ]
    },
    {
     "data": {
      "text/html": [
       "<div>\n",
       "<style scoped>\n",
       "    .dataframe tbody tr th:only-of-type {\n",
       "        vertical-align: middle;\n",
       "    }\n",
       "\n",
       "    .dataframe tbody tr th {\n",
       "        vertical-align: top;\n",
       "    }\n",
       "\n",
       "    .dataframe thead th {\n",
       "        text-align: right;\n",
       "    }\n",
       "</style>\n",
       "<table border=\"1\" class=\"dataframe\">\n",
       "  <thead>\n",
       "    <tr style=\"text-align: right;\">\n",
       "      <th></th>\n",
       "      <th>commercial_area_code</th>\n",
       "      <th>commercial_area_name</th>\n",
       "      <th>service_category_name</th>\n",
       "      <th>total_sales</th>\n",
       "    </tr>\n",
       "  </thead>\n",
       "  <tbody>\n",
       "    <tr>\n",
       "      <th>7029</th>\n",
       "      <td>3130092</td>\n",
       "      <td>청량리농수산물시장</td>\n",
       "      <td>분식전문점</td>\n",
       "      <td>113208.0</td>\n",
       "    </tr>\n",
       "    <tr>\n",
       "      <th>7030</th>\n",
       "      <td>3110519</td>\n",
       "      <td>서대문구보건소별관</td>\n",
       "      <td>분식전문점</td>\n",
       "      <td>97577.0</td>\n",
       "    </tr>\n",
       "    <tr>\n",
       "      <th>7031</th>\n",
       "      <td>3130070</td>\n",
       "      <td>뚝섬역상점가</td>\n",
       "      <td>일식음식점</td>\n",
       "      <td>90525.0</td>\n",
       "    </tr>\n",
       "    <tr>\n",
       "      <th>7032</th>\n",
       "      <td>3130135</td>\n",
       "      <td>수유중앙골목시장(수유중앙시장)</td>\n",
       "      <td>제과점</td>\n",
       "      <td>84610.0</td>\n",
       "    </tr>\n",
       "    <tr>\n",
       "      <th>7033</th>\n",
       "      <td>3110264</td>\n",
       "      <td>면목역 2번</td>\n",
       "      <td>커피-음료</td>\n",
       "      <td>19811.0</td>\n",
       "    </tr>\n",
       "  </tbody>\n",
       "</table>\n",
       "</div>"
      ],
      "text/plain": [
       "      commercial_area_code commercial_area_name service_category_name  \\\n",
       "7029               3130092            청량리농수산물시장                 분식전문점   \n",
       "7030               3110519            서대문구보건소별관                 분식전문점   \n",
       "7031               3130070               뚝섬역상점가                 일식음식점   \n",
       "7032               3130135     수유중앙골목시장(수유중앙시장)                   제과점   \n",
       "7033               3110264               면목역 2번                 커피-음료   \n",
       "\n",
       "      total_sales  \n",
       "7029     113208.0  \n",
       "7030      97577.0  \n",
       "7031      90525.0  \n",
       "7032      84610.0  \n",
       "7033      19811.0  "
      ]
     },
     "execution_count": 1,
     "metadata": {},
     "output_type": "execute_result"
    }
   ],
   "source": [
    "import mysql.connector\n",
    "import pandas as pd\n",
    "import numpy as np\n",
    "from dotenv import load_dotenv\n",
    "import os\n",
    "\n",
    "load_dotenv()\n",
    "\n",
    "remote = mysql.connector.connect(\n",
    "    host = os.getenv(\"DB_HOST\"),\n",
    "    user = os.getenv(\"DB_USER\"),\n",
    "    password = os.getenv(\"DB_PASSWORD\"),\n",
    "    database = \"triodb\"\n",
    ")\n",
    "\n",
    "query = \"\"\"\n",
    "SELECT\n",
    "    ca.code AS commercial_area_code,\n",
    "    ca.name AS commercial_area_name,\n",
    "    sc.name AS service_category_name,\n",
    "    SUM(sd.sales) AS total_sales\n",
    "FROM\n",
    "    Shop_Count sh\n",
    "JOIN Service_Category sc\n",
    "    ON sh.service_category_code = sc.code\n",
    "JOIN Commercial_Area ca\n",
    "    ON sh.commercial_area_code = ca.code\n",
    "JOIN Sales_Daytype sd\n",
    "    ON sd.store_id = sh.id\n",
    "WHERE\n",
    "    sc.name IN (\n",
    "        '한식음식점', '중식음식점', '일식음식점', '양식음식점',\n",
    "        '제과점', '패스트푸드점', '치킨전문점', '분식전문점',\n",
    "        '호프-간이주점', '커피-음료'\n",
    "    )\n",
    "GROUP BY\n",
    "    ca.code, ca.name, sc.name\n",
    "ORDER BY\n",
    "    total_sales DESC;\n",
    "\"\"\"\n",
    "\n",
    "df = pd.read_sql(query, remote)\n",
    "\n",
    "remote.close()\n",
    "\n",
    "df.tail()"
   ]
  },
  {
   "cell_type": "markdown",
   "id": "daaf920f",
   "metadata": {},
   "source": [
    "### 시각화"
   ]
  },
  {
   "cell_type": "code",
   "execution_count": null,
   "id": "de55fc5e",
   "metadata": {},
   "outputs": [
    {
     "name": "stderr",
     "output_type": "stream",
     "text": [
      "/tmp/ipykernel_13254/74015187.py:8: FutureWarning: DataFrameGroupBy.apply operated on the grouping columns. This behavior is deprecated, and in a future version of pandas the grouping columns will be excluded from the operation. Either pass `include_groups=False` to exclude the groupings or explicitly select the grouping columns after groupby to silence this warning.\n",
      "  df_top = df.groupby('service_category_name', group_keys=False).apply(lambda x: x.nlargest(top_n, 'total_sales'))\n"
     ]
    },
    {
     "data": {
      "image/png": "[encoded data removed]",
      "text/plain": [
       "<Figure size 1200x800 with 1 Axes>"
      ]
     },
     "metadata": {},
     "output_type": "display_data"
    }
   ],
   "source": [
    "import koreanize_matplotlib\n",
    "import pandas as pd\n",
    "import seaborn as sns\n",
    "import matplotlib.pyplot as plt\n",
    "\n",
    "top_n = 5\n",
    "df_top = df.groupby('service_category_name', group_keys=False).apply(lambda x: x.nlargest(top_n, 'total_sales'))\n",
    "\n",
    "plt.figure(figsize=(12, 8))\n",
    "sns.barplot(\n",
    "    data=df_top,\n",
    "    x='total_sales',\n",
    "    y='commercial_area_name',\n",
    "    hue='service_category_name',\n",
    "    dodge=False\n",
    ")\n",
    "\n",
    "plt.title('업종별 매출 상위 상권')\n",
    "plt.xlabel('총 매출')\n",
    "plt.ylabel('상권명')\n",
    "plt.legend(title='업종')\n",
    "plt.tight_layout()\n",
    "plt.show()\n"
   ]
  },
  {
   "cell_type": "code",
   "execution_count": null,
   "id": "f5fd3b75",
   "metadata": {},
   "outputs": [
    {
     "name": "stderr",
     "output_type": "stream",
     "text": [
      "/tmp/ipykernel_13254/393529050.py:11: FutureWarning: DataFrameGroupBy.apply operated on the grouping columns. This behavior is deprecated, and in a future version of pandas the grouping columns will be excluded from the operation. Either pass `include_groups=False` to exclude the groupings or explicitly select the grouping columns after groupby to silence this warning.\n",
      "  .apply(lambda x: x.sort_values('total_sales', ascending=False).head(top_n))\n"
     ]
    },
    {
     "data": {
      "image/png": "[encoded data removed]",
      "text/plain": [
       "<Figure size 1200x1600 with 10 Axes>"
      ]
     },
     "metadata": {},
     "output_type": "display_data"
    }
   ],
   "source": [
    "import koreanize_matplotlib\n",
    "import pandas as pd\n",
    "import seaborn as sns\n",
    "import matplotlib.pyplot as plt\n",
    "\n",
    "top_n = 3\n",
    "\n",
    "df_top = (\n",
    "    df.groupby('service_category_name', group_keys=False)\n",
    "      .apply(lambda x: x.sort_values('total_sales', ascending=False).head(top_n))\n",
    ")\n",
    "\n",
    "g = sns.FacetGrid(df_top, col='service_category_name', col_wrap=3, height=4, sharex=False)\n",
    "\n",
    "def barplot_facet(data, **kwargs):\n",
    "    data = data.sort_values('total_sales', ascending=False)\n",
    "    sns.barplot(\n",
    "        x='commercial_area_name',\n",
    "        y='total_sales',\n",
    "        data=data,\n",
    "        **kwargs\n",
    "    )\n",
    "    plt.xticks(rotation=45)\n",
    "\n",
    "g.map_dataframe(barplot_facet)\n",
    "g.set_titles('{col_name}')\n",
    "g.set_axis_labels(' ', '총 매출')\n",
    "plt.tight_layout()\n",
    "plt.show()\n"
   ]
  },
  {
   "cell_type": "code",
   "execution_count": 18,
   "id": "1615cfac",
   "metadata": {},
   "outputs": [
    {
     "data": {
      "text/html": [
       "<div>\n",
       "<style scoped>\n",
       "    .dataframe tbody tr th:only-of-type {\n",
       "        vertical-align: middle;\n",
       "    }\n",
       "\n",
       "    .dataframe tbody tr th {\n",
       "        vertical-align: top;\n",
       "    }\n",
       "\n",
       "    .dataframe thead th {\n",
       "        text-align: right;\n",
       "    }\n",
       "</style>\n",
       "<table border=\"1\" class=\"dataframe\">\n",
       "  <thead>\n",
       "    <tr style=\"text-align: right;\">\n",
       "      <th></th>\n",
       "      <th>commercial_area_code</th>\n",
       "      <th>commercial_area_name</th>\n",
       "      <th>service_category_name</th>\n",
       "      <th>total_sales</th>\n",
       "    </tr>\n",
       "  </thead>\n",
       "  <tbody>\n",
       "    <tr>\n",
       "      <th>174</th>\n",
       "      <td>3120249</td>\n",
       "      <td>고덕역</td>\n",
       "      <td>분식전문점</td>\n",
       "      <td>2.970573e+10</td>\n",
       "    </tr>\n",
       "    <tr>\n",
       "      <th>200</th>\n",
       "      <td>3001492</td>\n",
       "      <td>명동 남대문 북창동 다동 무교동 관광특구</td>\n",
       "      <td>분식전문점</td>\n",
       "      <td>2.704672e+10</td>\n",
       "    </tr>\n",
       "    <tr>\n",
       "      <th>244</th>\n",
       "      <td>3120189</td>\n",
       "      <td>강남역</td>\n",
       "      <td>분식전문점</td>\n",
       "      <td>2.331839e+10</td>\n",
       "    </tr>\n",
       "    <tr>\n",
       "      <th>40</th>\n",
       "      <td>3001491</td>\n",
       "      <td>이태원 관광특구</td>\n",
       "      <td>양식음식점</td>\n",
       "      <td>6.998784e+10</td>\n",
       "    </tr>\n",
       "    <tr>\n",
       "      <th>44</th>\n",
       "      <td>3120046</td>\n",
       "      <td>이태원(이태원역)</td>\n",
       "      <td>양식음식점</td>\n",
       "      <td>6.452400e+10</td>\n",
       "    </tr>\n",
       "  </tbody>\n",
       "</table>\n",
       "</div>"
      ],
      "text/plain": [
       "     commercial_area_code    commercial_area_name service_category_name  \\\n",
       "174               3120249                     고덕역                 분식전문점   \n",
       "200               3001492  명동 남대문 북창동 다동 무교동 관광특구                 분식전문점   \n",
       "244               3120189                     강남역                 분식전문점   \n",
       "40                3001491                이태원 관광특구                 양식음식점   \n",
       "44                3120046               이태원(이태원역)                 양식음식점   \n",
       "\n",
       "      total_sales  \n",
       "174  2.970573e+10  \n",
       "200  2.704672e+10  \n",
       "244  2.331839e+10  \n",
       "40   6.998784e+10  \n",
       "44   6.452400e+10  "
      ]
     },
     "execution_count": 18,
     "metadata": {},
     "output_type": "execute_result"
    }
   ],
   "source": [
    "df_top.head()"
   ]
  },
  {
   "cell_type": "code",
   "execution_count": null,
   "id": "2c3a2ff8",
   "metadata": {},
   "outputs": [],
   "source": []
  }
 ],
 "metadata": {
  "kernelspec": {
   "display_name": "eda_venv",
   "language": "python",
   "name": "python3"
  },
  "language_info": {
   "codemirror_mode": {
    "name": "ipython",
    "version": 3
   },
   "file_extension": ".py",
   "mimetype": "text/x-python",
   "name": "python",
   "nbconvert_exporter": "python",
   "pygments_lexer": "ipython3",
   "version": "3.12.3"
  }
 },
 "nbformat": 4,
 "nbformat_minor": 5
}
