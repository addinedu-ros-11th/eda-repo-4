{
 "cells": [
  {
   "cell_type": "code",
   "execution_count": null,
   "id": "950aae19",
   "metadata": {},
   "outputs": [],
   "source": [
    "import pymysql\n",
    "import pandas as pd\n",
    "\n",
    "# MySQL 연결\n",
    "conn = pymysql.connect(\n",
    "    host='triodb.crgkkewom2kz.ap-northeast-2.rds.amazonaws.com',\n",
    "    user='lee',\n",
    "    password='trio1234',\n",
    "    db='triodb',\n",
    "    charset='utf8mb4'\n",
    ")\n",
    "\n",
    "# 구별 점포 수 CSV\n",
    "query_gu = \"\"\"(위 2.1 구별 쿼리 전체)\"\"\"\n",
    "df_gu = pd.read_sql(query_gu, conn)\n",
    "df_gu.to_csv('./src/eda/shop_count_by_gu.csv', index=False, encoding='utf-8-sig')\n",
    "\n",
    "# 동별 점포 수 CSV\n",
    "query_dong = \"\"\"(위 2.2 동별 쿼리 전체)\"\"\"\n",
    "df_dong = pd.read_sql(query_dong, conn)\n",
    "df_dong.to_csv('./src/eda/shop_count_by_dong.csv', index=False, encoding='utf-8-sig')\n",
    "\n",
    "# 상권별 점포 수 CSV\n",
    "query_area = \"\"\"(위 2.3 상권별 쿼리 전체)\"\"\"\n",
    "df_area = pd.read_sql(query_area, conn)\n",
    "df_area.to_csv('./src/eda/shop_count_by_area.csv', index=False, encoding='utf-8-sig')\n",
    "\n",
    "conn.close()"
   ]
  },
  {
   "cell_type": "code",
   "execution_count": null,
   "id": "06e97f15",
   "metadata": {},
   "outputs": [
    {
     "name": "stdout",
     "output_type": "stream",
     "text": [
      "/home/hyubi/dev_ws/eda_project/eda-repo-4\n"
     ]
    }
   ],
   "source": []
  }
 ],
 "metadata": {
  "kernelspec": {
   "display_name": "eda_venv",
   "language": "python",
   "name": "python3"
  },
  "language_info": {
   "codemirror_mode": {
    "name": "ipython",
    "version": 3
   },
   "file_extension": ".py",
   "mimetype": "text/x-python",
   "name": "python",
   "nbconvert_exporter": "python",
   "pygments_lexer": "ipython3",
   "version": "3.12.3"
  }
 },
 "nbformat": 4,
 "nbformat_minor": 5
}
